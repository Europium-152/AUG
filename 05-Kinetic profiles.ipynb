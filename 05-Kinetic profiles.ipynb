{
 "cells": [
  {
   "cell_type": "markdown",
   "metadata": {},
   "source": [
    "# Kinetic profiles\n",
    "\n",
    "## Electron Density\n",
    "\n"
   ]
  },
  {
   "cell_type": "markdown",
   "metadata": {},
   "source": [
    "| Diagnostic | Shotfile | Signal | Area-Base space |\n",
    "|---|---|---|---|\n",
    "| Thomson Scattering, core | VTA | Ne_c | R,z |\n",
    "| Thomson Scattering, edge | VTA | Ne_e | R,z |\n",
    "| Lithium Beam | LIN | ne | $\\rho_{pol}$ |\n",
    "| IDA | IDA | ne | $\\rho_{pol}$ |\n",
    "| O-mode Reflectometer, LFS | RPS | neb_LFS | Real space, antenna LOS, Z=0.14m |\n",
    "| O-mode Reflectometer, HFS | RPS | neb_HFS | Real space, antenna LOS, Z=0.07m |\n",
    "| ICRH embedded X-mode Ref., above midplane | RIC | Ne_Ant1 | $\\rho_{pol}$ |\n",
    "| ICRH embedded X-mode Ref., midplane | RIC | Ne_Ant4 | $\\rho_{pol}$ |\n",
    "| ICRH embedded X-mode Ref., below midplane | RIC | Ne_Ant8 | $\\rho_{pol}$ |\n",
    "\n",
    "\n",
    "Don't use the reflectometers if you're a weak individual. As an example we'll use only the diagnostics that feeble-minded people can handle so nobody gets ill while using this notebook, Thomson Scattering (TS), Lithium beam, and IDA. Since TS is mapped in (R,z), a special function is included to map data to $\\rho_{pol}$. Also, note that the edge and core TS systems have diferent time bases."
   ]
  },
  {
   "cell_type": "code",
   "execution_count": 8,
   "metadata": {},
   "outputs": [],
   "source": [
    "import matplotlib.pyplot as plt\n",
    "from ipfnpytools.get_vta import get_vta\n",
    "from ipfnpytools.getsig import getsig\n",
    "from ipfnpytools.closest import closest\n",
    "import matplotlib.pyplot as plt\n",
    "plt.style.use('./Styles/darklab.mplstyle')"
   ]
  },
  {
   "cell_type": "code",
   "execution_count": 5,
   "metadata": {},
   "outputs": [
    {
     "name": "stderr",
     "output_type": "stream",
     "text": [
      "/afs/ipp/aug/ads-diags/common/python/lib/dd.py:118: RuntimeWarning: Warning by DDcsgnl (8.1): no calibration of data\n",
      "  warnings.warn(err_txt, RuntimeWarning)\n"
     ]
    },
    {
     "name": "stdout",
     "output_type": "stream",
     "text": []
    },
    {
     "name": "stdout",
     "output_type": "stream",
     "text": []
    },
    {
     "name": "stdout",
     "output_type": "stream",
     "text": []
    },
    {
     "name": "stdout",
     "output_type": "stream",
     "text": []
    },
    {
     "name": "stdout",
     "output_type": "stream",
     "text": []
    },
    {
     "name": "stdout",
     "output_type": "stream",
     "text": []
    },
    {
     "name": "stdout",
     "output_type": "stream",
     "text": []
    },
    {
     "name": "stdout",
     "output_type": "stream",
     "text": []
    },
    {
     "name": "stdout",
     "output_type": "stream",
     "text": []
    },
    {
     "name": "stdout",
     "output_type": "stream",
     "text": []
    },
    {
     "name": "stdout",
     "output_type": "stream",
     "text": [
      "trz_to_rhop:1001/1001\n",
      "trz_to_rhop:801/801\n"
     ]
    }
   ],
   "source": [
    "shotnr = 35647\n",
    "time = 2.5\n",
    "lin = getsig(shotnr, 'LIN', 'ne')\n",
    "ida = getsig(shotnr, 'IDA', 'ne')\n",
    "vta = get_vta(shotnr, verbose=True)"
   ]
  },
  {
   "cell_type": "code",
   "execution_count": 7,
   "metadata": {},
   "outputs": [],
   "source": [
    "linind = closest(lin.time, time)\n",
    "idaind = closest(ida.time, time)\n",
    "necind = closest(vta.time_c, time)\n",
    "neeind = closest(vta.time_e, time)"
   ]
  },
  {
   "cell_type": "code",
   "execution_count": 17,
   "metadata": {},
   "outputs": [
    {
     "data": {
      "image/png": "[encoded data removed]",
      "text/plain": [
       "<matplotlib.figure.Figure at 0x7fc671ff4ad0>"
      ]
     },
     "metadata": {
      "needs_background": "dark"
     },
     "output_type": "display_data"
    }
   ],
   "source": [
    "multiplier = 1e-19 #Data multiplier\n",
    "plt.plot(lin.area.data[linind,:], lin.data[linind,:]*multiplier, 'C2', label='LIN')\n",
    "plt.plot(ida.area.data[idaind,:], ida.data[idaind,:]*multiplier, 'w', label='IDA')\n",
    "plt.plot(vta.rho_c[necind, :], vta.ne_c[necind, :]*multiplier, 'C1o', label=r'TS $\\mathrm{n_{e,core}}$')\n",
    "plt.plot(vta.rho_e[neeind, :], vta.ne_e[neeind, :]*multiplier, 'C4o', label=r'TS $\\mathrm{n_{e,edge}}$')\n",
    "plt.legend(loc='lower left')\n",
    "plt.ylim(bottom=0)\n",
    "plt.xlabel(r'$\\mathrm{\\rho_{pol}}$')\n",
    "plt.ylabel(r'$\\mathrm{n_{e}\\,[10^{19}\\,m^{-3}]}$')\n",
    "plt.show()"
   ]
  },
  {
   "cell_type": "markdown",
   "metadata": {},
   "source": [
    "## Electron Temperature "
   ]
  },
  {
   "cell_type": "markdown",
   "metadata": {},
   "source": [
    "Carrega, Gil!"
   ]
  }
 ],
 "metadata": {
  "kernelspec": {
   "display_name": "Python 2",
   "language": "python",
   "name": "python2"
  },
  "language_info": {
   "codemirror_mode": {
    "name": "ipython",
    "version": 2
   },
   "file_extension": ".py",
   "mimetype": "text/x-python",
   "name": "python",
   "nbconvert_exporter": "python",
   "pygments_lexer": "ipython2",
   "version": "2.7.14"
  }
 },
 "nbformat": 4,
 "nbformat_minor": 2
}
