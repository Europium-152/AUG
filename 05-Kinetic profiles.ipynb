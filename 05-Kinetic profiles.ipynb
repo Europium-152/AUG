{
 "cells": [
  {
   "cell_type": "markdown",
   "metadata": {},
   "source": [
    "# Kinetic profiles\n",
    "\n",
    "## Electron Density\n",
    "\n"
   ]
  },
  {
   "cell_type": "markdown",
   "metadata": {},
   "source": [
    "| Diagnostic | Shotfile | Signal | Area-Base space |\n",
    "|---|---|---|---|\n",
    "| Thomson Scattering, core | VTA | Ne_c | R,z |\n",
    "| Thomson Scattering, edge | VTA | Ne_e | R,z |\n",
    "| Lithium Beam | LIN | ne | $\\rho_{pol}$ |\n",
    "| IDA | IDA | ne | $\\rho_{pol}$ |\n",
    "| O-mode Reflectometer, LFS | RPS | neb_LFS | Real space, antenna LOS, Z=0.14m |\n",
    "| O-mode Reflectometer, HFS | RPS | neb_HFS | Real space, antenna LOS, Z=0.07m |\n",
    "| ICRH embedded X-mode Ref., above midplane | RIC | Ne_Ant1 | $\\rho_{pol}$ |\n",
    "| ICRH embedded X-mode Ref., midplane | RIC | Ne_Ant4 | $\\rho_{pol}$ |\n",
    "| ICRH embedded X-mode Ref., below midplane | RIC | Ne_Ant8 | $\\rho_{pol}$ |\n",
    "\n",
    "\n",
    "Don't use the reflectometers if you're a weak individual. As an example we'll use only the diagnostics that feeble-minded people can handle so nobody gets ill while using this notebook, Thomson Scattering (TS), Lithium beam, and IDA. Since TS is mapped in (R,z), a special function is included to map data to $\\rho_{pol}$."
   ]
  },
  {
   "cell_type": "code",
   "execution_count": null,
   "metadata": {},
   "outputs": [],
   "source": [
    "import matplotlib.pyplot as plt\n",
    "from ipfnpytools.get_vta import get_vta\n",
    "from ipfnpytools.getsig import getsig"
   ]
  },
  {
   "cell_type": "code",
   "execution_count": null,
   "metadata": {},
   "outputs": [],
   "source": [
    "shotnr = 35647\n",
    "time = 2.5"
   ]
  },
  {
   "cell_type": "code",
   "execution_count": null,
   "metadata": {},
   "outputs": [],
   "source": []
  },
  {
   "cell_type": "markdown",
   "metadata": {},
   "source": [
    "## Electron Temperature "
   ]
  },
  {
   "cell_type": "code",
   "execution_count": null,
   "metadata": {},
   "outputs": [],
   "source": []
  },
  {
   "cell_type": "code",
   "execution_count": null,
   "metadata": {},
   "outputs": [],
   "source": []
  }
 ],
 "metadata": {
  "kernelspec": {
   "display_name": "Python 2",
   "language": "python",
   "name": "python2"
  },
  "language_info": {
   "codemirror_mode": {
    "name": "ipython",
    "version": 2
   },
   "file_extension": ".py",
   "mimetype": "text/x-python",
   "name": "python",
   "nbconvert_exporter": "python",
   "pygments_lexer": "ipython2",
   "version": "2.7.14"
  }
 },
 "nbformat": 4,
 "nbformat_minor": 2
}
