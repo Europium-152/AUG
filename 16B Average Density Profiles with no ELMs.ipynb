{
 "cells": [
  {
   "cell_type": "markdown",
   "metadata": {},
   "source": [
    "# Average density profiles with no ELMs\n",
    "\n",
    "Plot time-averaged ELM-free density profiles.\n",
    "\n",
    "Remove the time instants corresponding to ELMs (according to the \"ELM\" shotfile) and compute the average and standard deviation on a given time window.\n",
    "\n",
    "## Removing ELMs\n",
    "\n",
    "We remove the time instants with ELMs using the _ELM_ shotfile. To better filter out the ELMs, you need to specify a rejection window arround the ELM peak. For example, you can reject one millisecond before the peak `preft = 1` and two milliseconds after the peak `suft=2`. To verify that the ELM rejection routine is working properly, we can test it on an arbitrary diagnostic, e.g., `MAC/Ipolsoli` or `POT/EMLa-Han`."
   ]
  },
  {
   "cell_type": "markdown",
   "metadata": {},
   "source": [
    "#### Import libraries"
   ]
  },
  {
   "cell_type": "code",
   "execution_count": null,
   "metadata": {},
   "outputs": [],
   "source": [
    "%matplotlib notebook\n",
    "from IPython.core.display import display, HTML\n",
    "from ipfnpytools.getsig import getsig\n",
    "import ipfnpytools.aug_read as aug_read\n",
    "from ipfnpytools.closest import closest\n",
    "from __future__ import print_function\n",
    "from ipfnpytools.plot import plots\n",
    "from warnings import warn\n",
    "import numpy as np\n",
    "from ipfnpytools.save_figure import save_figure\n",
    "from ipfnpytools import rps_dump#### Import libraries\n",
    "import pandas as pd\n",
    "import matplotlib.pyplot as plt\n",
    "import ipywidgets as widgets\n",
    "from ipfnpytools.ddremoveELMData import ddremoveELMData \n",
    "import reflectometry as rfl\n",
    "from ipfnpytools.trz_to_rhop import trz_to_rhop"
   ]
  },
  {
   "cell_type": "markdown",
   "metadata": {},
   "source": [
    "### <span style=\"color:blue\">Parameters</span>"
   ]
  },
  {
   "cell_type": "code",
   "execution_count": null,
   "metadata": {},
   "outputs": [],
   "source": [
    "# Shot number\n",
    "shot = 34879\n",
    "\n",
    "# Choose edition for reflectometry (0 for most recent)\n",
    "edition = 0\n",
    "\n",
    "# Choose profile source between 'afs' and 'dump'\n",
    "source = 'afs'\n",
    "\n",
    "# Path to dump file \n",
    "path = None\n",
    "\n",
    "# Signal to overlay the density profiles\n",
    "support_signal = ('FPG', 'Zgeo')\n",
    "\n",
    "# Choose edition for the supporting signal (0 for most recent)\n",
    "support_signal_edition = 0\n",
    "\n",
    "# Magnetic equillibrium\n",
    "equillibrium = \"EQH\"\n",
    "\n",
    "# Number of density profiles to show in the plots\n",
    "number_of_profiles = 2\n",
    "\n",
    "# Size of window to average profiles [ms]\n",
    "time_window = 50\n",
    "\n",
    "# Show error bars corresponding to the standard deviation of the average profile\n",
    "show_std = True\n",
    "\n",
    "# Show HFS and LFS rho profiles in the same window\n",
    "show_same = True\n",
    "\n",
    "# Show wall\n",
    "show_wall = False\n",
    "\n",
    "# Time to reject before each ELM peak [ms]\n",
    "preft = 2\n",
    "\n",
    "# Time to reject after each ELM peak [ms]\n",
    "suft = 3\n",
    "\n",
    "# Select diagnostic for testing ELM rejection (\"Shotfile\", \"Signal\")\n",
    "diag = (\"MAC\", \"Ipolsoli\")\n",
    "\n",
    "# HFS cutoff density (1e19 m^-3)\n",
    "hfs_cut = 3.0"
   ]
  },
  {
   "cell_type": "markdown",
   "metadata": {},
   "source": [
    "### Load support signal from AFS"
   ]
  },
  {
   "cell_type": "code",
   "execution_count": null,
   "metadata": {},
   "outputs": [],
   "source": [
    "signal = getsig(shot, support_signal[0], support_signal[1], edition=support_signal_edition)\n",
    "plots(signal.time, signal.data, labels=signal.name)"
   ]
  },
  {
   "cell_type": "markdown",
   "metadata": {},
   "source": [
    "### Load test signal and compute ELM mask"
   ]
  },
  {
   "cell_type": "code",
   "execution_count": null,
   "metadata": {},
   "outputs": [],
   "source": [
    "# Get ELM mask from the ELM shotfile\n",
    "test_signal = getsig(shot, diag[0], diag[1])\n",
    "elmmsk = ddremoveELMData(shot, test_signal.time, preft=preft*1e-3, suft=suft*1e-3)"
   ]
  },
  {
   "cell_type": "markdown",
   "metadata": {},
   "source": [
    "### Plot ELM rejection test"
   ]
  },
  {
   "cell_type": "code",
   "execution_count": null,
   "metadata": {},
   "outputs": [],
   "source": [
    "plt.figure(figsize=(9, 3))\n",
    "plt.plot(test_signal.time, test_signal.data, lw=0.3)\n",
    "plt.scatter(test_signal.time[elmmsk], test_signal.data[elmmsk], color='C1', marker='o', s=1)\n",
    "plt.grid()\n",
    "plt.xlabel(\"Time [s]\")\n",
    "plt.tight_layout()\n",
    "# plt.xlim(2.2, 6.3)\n",
    "# plt.ylim(-4e4, 4e4)"
   ]
  },
  {
   "cell_type": "markdown",
   "metadata": {},
   "source": [
    "### Fetch density profile data"
   ]
  },
  {
   "cell_type": "code",
   "execution_count": null,
   "metadata": {},
   "outputs": [],
   "source": [
    "time, lfs_signal, hfs_signal, lfs_area, hfs_area = rfl.fetch(shot, path if source=='dump' else None, verbose=False)\n",
    "\n",
    "# Remove NaN's\n",
    "lfs_area = np.nan_to_num(lfs_area)\n",
    "hfs_area = np.nan_to_num(hfs_area)\n",
    "\n",
    "lfs_signal*=1e-19\n",
    "hfs_signal*=1e-19\n",
    "\n",
    "# Cutoff HFS density\n",
    "idx = hfs_signal[0] < hfs_cut\n",
    "hfs_signal = hfs_signal[:, idx]\n",
    "hfs_area = hfs_area[:, idx]"
   ]
  },
  {
   "cell_type": "markdown",
   "metadata": {},
   "source": [
    "### Compute ELM mask for the density profiles"
   ]
  },
  {
   "cell_type": "code",
   "execution_count": null,
   "metadata": {},
   "outputs": [],
   "source": [
    "mask = ddremoveELMData(shot, time, preft=preft*1e-3, suft=suft*1e-3)"
   ]
  },
  {
   "cell_type": "markdown",
   "metadata": {},
   "source": [
    "### Apply mask and compute average and standard deviation"
   ]
  },
  {
   "cell_type": "code",
   "execution_count": null,
   "metadata": {},
   "outputs": [],
   "source": [
    "time_masked = time[mask]\n",
    "\n",
    "N = int(time_window*1e-3/(time[1] - time[0]))\n",
    "print(\"Averaging %d profiles on a %.3lf ms window.\" % (N, time_window))\n",
    "\n",
    "# # Apply the ELM removal mask\n",
    "lfs_area_masked = lfs_area[mask]\n",
    "hfs_area_masked = hfs_area[mask]\n",
    "\n",
    "lfs_average = pd.DataFrame(lfs_area_masked).rolling(window=N, center=True).mean().values\n",
    "hfs_average = pd.DataFrame(hfs_area_masked).rolling(window=N, center=True).mean().values\n",
    "\n",
    "lfs_std = pd.DataFrame(lfs_area_masked).rolling(window=N, center=True).std().values\n",
    "hfs_std = pd.DataFrame(hfs_area_masked).rolling(window=N, center=True).std().values"
   ]
  },
  {
   "cell_type": "markdown",
   "metadata": {},
   "source": [
    "### Plot density vs. R \\[m\\]"
   ]
  },
  {
   "cell_type": "code",
   "execution_count": null,
   "metadata": {},
   "outputs": [],
   "source": [
    "fig1, ax1, ax2, ax3 = rfl.two_plus_one(\n",
    "    x1=signal.time, y1=signal.data, \n",
    "    x23=time, y2=hfs_average, y3=lfs_average, \n",
    "    z2=hfs_signal, z3=lfs_signal, \n",
    "    ey2=hfs_std if show_std else None, \n",
    "    ey3=lfs_std if show_std else None, \n",
    "    lx1=\"Time [s]\", ly1=support_signal[0] + '/' + support_signal[1],\n",
    "    ly2=\"HFS R [m]\", lz2=r'$\\mathrm{n_{e}\\,[10^{19}\\,m^{-3}]}$',\n",
    "    ly3=\"LFS R [m]\", lz3=r'$\\mathrm{n_{e}\\,[10^{19}\\,m^{-3}]}$',\n",
    "    number_of_profiles=number_of_profiles, \n",
    "    m2=None, m3=None, \n",
    "    strip_pts=N, \n",
    "    show_same=False,\n",
    "    paint_rho=False, paint_wall=True,\n",
    "    sharex=False, sharey=True,\n",
    ")"
   ]
  },
  {
   "cell_type": "markdown",
   "metadata": {},
   "source": [
    "## <span style=\"color:blue\">Parameters</span>\n",
    "Change the figure manualy with your cursor, or by running the following cell"
   ]
  },
  {
   "cell_type": "code",
   "execution_count": null,
   "metadata": {},
   "outputs": [],
   "source": [
    "fig1.set_size_inches(10, 4)  # Figure size in inches (widht, height)\n",
    "\n",
    "ax1.set_xlim(0, 7)  # Bottom plot x-range\n",
    "ax1.set_ylim(-0.03, 0.06)  # Bottom plot y-range\n",
    "\n",
    "ax2.set_xlim(1, 1.2)  # Top-left plot x-range\n",
    "ax2.set_ylim(0, 3)  # Top-left plot y-range\n",
    "\n",
    "ax3.set_xlim(1.6, 2.3) # Top-right plot x-range\n",
    "ax3.set_ylim(0, 3)  # Top-right plot y-range"
   ]
  },
  {
   "cell_type": "markdown",
   "metadata": {},
   "source": [
    "### Save the figure to your working directory"
   ]
  },
  {
   "cell_type": "code",
   "execution_count": null,
   "metadata": {},
   "outputs": [],
   "source": [
    "save_figure(fig1, \"%d_average_profiles\" % (shot))"
   ]
  },
  {
   "cell_type": "markdown",
   "metadata": {},
   "source": [
    "### Convert R \\[m\\] to $\\rho$ and compute the average and std."
   ]
  },
  {
   "cell_type": "code",
   "execution_count": null,
   "metadata": {},
   "outputs": [],
   "source": [
    "# Set the antenna Z\n",
    "zl = 0.14\n",
    "zh = 0.07\n",
    "\n",
    "# Walls\n",
    "inner_wall = 1.045\n",
    "outer_wall = 2.22\n",
    "\n",
    "inner_wall_rho = trz_to_rhop(time_masked, inner_wall, zh, shot, eq=equillibrium)\n",
    "outer_wall_rho = trz_to_rhop(time_masked, outer_wall, zl, shot, eq=equillibrium)\n",
    "\n",
    "rhol = trz_to_rhop(time_masked, lfs_area_masked, np.ones_like(lfs_area_masked)*zl, shot, eq=equillibrium)\n",
    "rhoh = trz_to_rhop(time_masked, hfs_area_masked, np.ones_like(hfs_area_masked)*zh, shot, eq=equillibrium)\n",
    "\n",
    "rhol = np.nan_to_num(rhol)\n",
    "rhoh = np.nan_to_num(rhoh)\n",
    "\n",
    "# Compute the average and std in rho ------------------------\n",
    "\n",
    "rhol_average = pd.DataFrame(rhol).rolling(window=N, center=True).mean().values\n",
    "rhoh_average = pd.DataFrame(rhoh).rolling(window=N, center=True).mean().values\n",
    "\n",
    "rhol_std = pd.DataFrame(rhol).rolling(window=N, center=True).std().values\n",
    "rhoh_std = pd.DataFrame(rhoh).rolling(window=N, center=True).std().values"
   ]
  },
  {
   "cell_type": "markdown",
   "metadata": {},
   "source": [
    "### Plot density vs. $\\rho$"
   ]
  },
  {
   "cell_type": "code",
   "execution_count": null,
   "metadata": {},
   "outputs": [],
   "source": [
    "fig2, ax4, ax5, ax6 = rfl.two_plus_one(\n",
    "    x1=signal.time, y1=signal.data, \n",
    "    x23=time, y2=rhoh_average, y3=rhol_average, \n",
    "    z2=hfs_signal, z3=lfs_signal, \n",
    "    ey2=rhoh_std if show_std else None, \n",
    "    ey3=rhol_std if show_std else None, \n",
    "    lx1=\"Time [s]\", ly1=support_signal[0] + '/' + support_signal[1],\n",
    "    ly2=r\"$\\rho$\" if show_same else r\"HFS $\\rho$\", \n",
    "    lz2=r'$\\mathrm{n_{e}\\,[10^{19}\\,m^{-3}]}$',\n",
    "    ly3=r\"LFS $\\rho$\", lz3=r'$\\mathrm{n_{e}\\,[10^{19}\\,m^{-3}]}$',\n",
    "    number_of_profiles=number_of_profiles, \n",
    "    m2=inner_wall_rho if show_wall else None, ### Plot density vs. $\\rho$\n",
    "    m3=outer_wall_rho if show_wall else None, \n",
    "    strip_pts=N, show_same=show_same, \n",
    "    paint_rho=True, paint_wall=False,\n",
    "    sharex=True, sharey=True,\n",
    ")"
   ]
  },
  {
   "cell_type": "markdown",
   "metadata": {},
   "source": [
    "## <span style=\"color:blue\">Parameters</span>\n",
    "Change the above figure manualy with your cursor, or by running the following cell"
   ]
  },
  {
   "cell_type": "code",
   "execution_count": null,
   "metadata": {},
   "outputs": [],
   "source": [
    "fig2.set_size_inches(10, 7)  # Figure size in inches (width, height)\n",
    "\n",
    "ax4.set_xlim(None, None)  # Bottom plot x-range\n",
    "ax4.set_ylim(None, None)  # Bottom plot y-range\n",
    "\n",
    "ax5.set_xlim(0.9, 1.2)  # Top-left plot x-range\n",
    "ax5.set_ylim(0, 3)  # Top-left plot y-range\n",
    "\n",
    "ax6.set_xlim(0.9, 1.2) # Top-right plot x-range\n",
    "ax6.set_ylim(0, 3)  # Top-right plot y-range"
   ]
  },
  {
   "cell_type": "markdown",
   "metadata": {},
   "source": [
    "### Save the figure to your working directory"
   ]
  },
  {
   "cell_type": "code",
   "execution_count": null,
   "metadata": {},
   "outputs": [],
   "source": [
    "save_figure(fig2, \"%d_average_profiles_rho\" % (shot))"
   ]
  }
 ],
 "metadata": {
  "kernelspec": {
   "display_name": "Python 2",
   "language": "python",
   "name": "python2"
  },
  "language_info": {
   "codemirror_mode": {
    "name": "ipython",
    "version": 2
   },
   "file_extension": ".py",
   "mimetype": "text/x-python",
   "name": "python",
   "nbconvert_exporter": "python",
   "pygments_lexer": "ipython2",
   "version": "2.7.16"
  }
 },
 "nbformat": 4,
 "nbformat_minor": 2
}
