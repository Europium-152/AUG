{
 "cells": [
  {
   "cell_type": "markdown",
   "metadata": {},
   "source": [
    "# Density Profiles at Given Times\n",
    "\n",
    "This notebook plots a number of density profiles at given times and plots an underlying signal. Both in $\\rho$ and in R."
   ]
  },
  {
   "cell_type": "code",
   "execution_count": null,
   "metadata": {},
   "outputs": [],
   "source": [
    "%matplotlib notebook\n",
    "# from __future__ import print_function\n",
    "import matplotlib\n",
    "# matplotlib.use(\"Agg\")\n",
    "# from IPython.core.display import display, HTML\n",
    "from ipfnpytools.getsig import getsig\n",
    "import ipfnpytools.aug_read as aug_read\n",
    "from ipfnpytools.closest import closest\n",
    "from ipfnpytools.plot import plots\n",
    "from warnings import warn\n",
    "import numpy as np\n",
    "from ipfnpytools.save_figure import save_figure\n",
    "from ipfnpytools import rps_dump\n",
    "import numpy as np\n",
    "import matplotlib.pyplot as plt\n",
    "import matplotlib.animation as animation\n",
    "import ipywidgets as widgets\n",
    "import reflectometry as rfl"
   ]
  },
  {
   "cell_type": "markdown",
   "metadata": {},
   "source": [
    "## Parameters\n",
    "\n",
    "Change these parameters to fit your needs"
   ]
  },
  {
   "cell_type": "code",
   "execution_count": null,
   "metadata": {},
   "outputs": [],
   "source": [
    "# Shot number\n",
    "shot = 37765\n",
    "\n",
    "# Choose edition for reflectometry (0 for most recent)\n",
    "edition = 0\n",
    "\n",
    "# Choose profile source between 'afs' and 'dump'\n",
    "source = 'afs'\n",
    "\n",
    "# Path to dump file \n",
    "path = None \n",
    "\n",
    "# If chosen 'dump', state the relative path\n",
    "support_signal = ('FPG', 'delRoben')\n",
    "\n",
    "# Choose edition for the supporting signal (0 for most recent)\n",
    "support_signal_edition = 0\n",
    "\n",
    "# Magnetic equillibrium\n",
    "equillibrium = \"EQH\"\n",
    "\n",
    "# Number of density profiles to show in the plots\n",
    "number_of_profiles = 3"
   ]
  },
  {
   "cell_type": "markdown",
   "metadata": {},
   "source": [
    "## Load support signal from AFS"
   ]
  },
  {
   "cell_type": "code",
   "execution_count": null,
   "metadata": {},
   "outputs": [],
   "source": [
    "signal = getsig(shot, support_signal[0], support_signal[1], edition=support_signal_edition)\n",
    "plots(signal.time, signal.data, labels=signal.name)"
   ]
  },
  {
   "cell_type": "markdown",
   "metadata": {},
   "source": [
    "## Get density profile data"
   ]
  },
  {
   "cell_type": "code",
   "execution_count": null,
   "metadata": {},
   "outputs": [],
   "source": [
    "# Fetching data ---------------------------------------------------\n",
    "\n",
    "time, lfs_signal, hfs_signal, lfs_area, hfs_area = rfl.fetch(shot, path if source=='dump' else None, verbose=True)"
   ]
  },
  {
   "cell_type": "code",
   "execution_count": null,
   "metadata": {},
   "outputs": [],
   "source": [
    "draw = np.linspace(0, len(time), number_of_profiles + 2, dtype=np.int)\n",
    "draw = draw[1:-1]\n",
    "\n",
    "rin = getsig(shot, 'GQH', 'Rin')\n",
    "raus = getsig(shot, 'GQH', 'Raus')\n",
    "\n",
    "fig1 = plt.figure()\n",
    "plt.subplots_adjust(wspace=0.2, hspace=0.6)\n",
    "\n",
    "# Supporting plot with colored lines\n",
    "ax1 = plt.subplot(212)\n",
    "stamp = []\n",
    "ax1.plot(signal.time, signal.data, color='k')\n",
    "for i in draw:\n",
    "    l = ax1.axvline(time[i], color=next(ax1._get_lines.prop_cycler)['color'])\n",
    "    stamp.append(l)\n",
    "\n",
    "\n",
    "ax2 = plt.subplot(221)\n",
    "\n",
    "ax3 = plt.subplot(222, sharey=ax2)\n",
    "ax3.tick_params(labelleft=False)\n",
    "\n",
    "hfs = []\n",
    "for i in draw:\n",
    "    l, = ax2.plot(hfs_area[i], hfs_signal[i]*1e-19)\n",
    "    hfs.append(l)\n",
    "\n",
    "lfs = []\n",
    "for i in draw:\n",
    "    l, = ax3.plot(lfs_area[i], lfs_signal[i]*1e-19)\n",
    "    lfs.append(l)\n",
    "\n",
    "\n",
    "#labels & text\n",
    "ax2.set_ylabel(r'$\\mathrm{n_{e}\\,[10^{19}\\,m^{-3}]}$')\n",
    "ax2.set_xlabel('HFS R [m]')\n",
    "ax3.set_xlabel('LFS R [m]')\n",
    "ax1.set_xlabel('Time [s]')\n",
    "\n",
    "\n",
    "testing_slider = widgets.FloatSlider(\n",
    "        value=time[draw[0]],\n",
    "        min=time[0],\n",
    "        max=time[-1],\n",
    "        step=time[1]-time[0],\n",
    "        description='Time:',\n",
    "        disabled=False,\n",
    "        continuous_update=True,\n",
    "        orientation='horizontal',\n",
    "        readout=True,\n",
    "        readout_format='.6f',\n",
    "    )\n",
    "\n",
    "\n",
    "def update1(**kwargs):\n",
    "    for i, ts in enumerate(kwargs.values()):\n",
    "        time_index = closest(time, ts)\n",
    "        hfs[i].set_xdata(hfs_area[time_index])\n",
    "        lfs[i].set_xdata(lfs_area[time_index])\n",
    "        stamp[i].set_xdata(2*[ts])\n",
    "    fig1.canvas.draw_idle()\n",
    "    \n",
    "    \n",
    "sliders = []\n",
    "for i in range(number_of_profiles):\n",
    "    sliders.append(widgets.FloatSlider(\n",
    "        value=time[draw[i]],\n",
    "        min=time[0],\n",
    "        max=time[-1],\n",
    "        step=time[1]-time[0],\n",
    "        description='slider %d'%i,\n",
    "        disabled=False,\n",
    "        continuous_update=True,\n",
    "        orientation='horizontal',\n",
    "        readout=True,\n",
    "        readout_format='.6f',\n",
    "    ))\n",
    "    \n",
    "kwargs = {'p{0}'.format(i):slider for i, slider in enumerate(sliders)}\n",
    "\n",
    "widgets.interact(update1, **kwargs);\n",
    "    \n",
    "\n",
    "#Inner vessel wall\n",
    "ax2.axvspan(0., 1.045, color='#D3D3D3')\n",
    "#ICRH limiter\n",
    "ax3.axvspan(2.22, 5., color='#D3D3D3')\n",
    "\n",
    "#Readjust plot limits\n",
    "ax2.set_xlim(1.0, 1.2) # HFS R[m]\n",
    "ax3.set_xlim(2.1, 2.3) # LFS R[m]\n",
    "ax2.set_ylim(0, 3) # HFS & LFS density * 1e19\n",
    "\n",
    "# #Separatrices\n",
    "# rinr = rin.data[closest(rin.time, time[0])]\n",
    "# ax1[0].axvspan(rinr, 1.35, color='#FFC0CB')\n",
    "\n",
    "# rausr = raus.data[closest(raus.time, time[0])]\n",
    "# ax1[1].axvspan(1.98, rausr, color='#FFC0CB')\n"
   ]
  },
  {
   "cell_type": "code",
   "execution_count": null,
   "metadata": {},
   "outputs": [],
   "source": [
    "# Profile window limits\n",
    "ax2.set_xlim(1.0, 1.2) # HFS R[m]\n",
    "ax3.set_xlim(2.1, 2.3) # LFS R[m]\n",
    "ax2.set_ylim(0, 3) # HFS & LFS density * 1e19\n",
    "\n",
    "# Support signal window limits\n",
    "ax1.set_xlim(0, 8)  # In x direction (time)\n",
    "ax1.set_ylim(-0.1, 1)  # In y direction"
   ]
  },
  {
   "cell_type": "code",
   "execution_count": null,
   "metadata": {},
   "outputs": [],
   "source": [
    "save_figure(fig1, \"timed_profiles\")"
   ]
  },
  {
   "cell_type": "markdown",
   "metadata": {},
   "source": [
    "## Change coordinates to $\\rho$"
   ]
  },
  {
   "cell_type": "code",
   "execution_count": null,
   "metadata": {},
   "outputs": [],
   "source": [
    "from __future__ import print_function\n",
    "import dd #To read \n",
    "# import kk_abock\n",
    "import numpy as np\n",
    "from ipfnpytools.trz_to_rhop import trz_to_rhop"
   ]
  },
  {
   "cell_type": "code",
   "execution_count": null,
   "metadata": {},
   "outputs": [],
   "source": [
    "# Set the antenna Z\n",
    "zl = 0.14\n",
    "zh = 0.07\n",
    "\n",
    "# Walls\n",
    "inner_wall = 1.045\n",
    "outer_wall = 2.22\n",
    "\n",
    "inner_wall_rho = trz_to_rhop(3, inner_wall, zh, shot, eq=equillibrium)\n",
    "outer_wall_rho = trz_to_rhop(3, outer_wall, zl, shot, eq=equillibrium)\n",
    "rhol = trz_to_rhop(time, lfs_area, np.ones_like(lfs_area)*zl, shot, eq=equillibrium)\n",
    "rhoh = trz_to_rhop(time, hfs_area, np.ones_like(hfs_area)*zh, shot, eq=equillibrium)"
   ]
  },
  {
   "cell_type": "code",
   "execution_count": null,
   "metadata": {
    "scrolled": false
   },
   "outputs": [],
   "source": [
    "fig2 = plt.figure()\n",
    "plt.subplots_adjust(hspace=0.6)\n",
    "\n",
    "# Supporting plot with colored lines\n",
    "ax4 = plt.subplot(212)\n",
    "stamp = []\n",
    "ax4.plot(signal.time, signal.data, color='k')\n",
    "for i in draw:\n",
    "    l = ax4.axvline(time[i], color=next(ax4._get_lines.prop_cycler)['color'])\n",
    "    stamp.append(l)\n",
    "\n",
    "\n",
    "ax5 = plt.subplot(211)\n",
    "\n",
    "hfs = []\n",
    "lfs = []\n",
    "for i in draw:\n",
    "    l, = ax5.plot(rhoh[i], hfs_signal[i]*1e-19)\n",
    "    hfs.append(l)\n",
    "    l, = ax5.plot(rhol[i], lfs_signal[i]*1e-19, color=l.get_color(), linestyle='--')\n",
    "    lfs.append(l)\n",
    "    \n",
    "\n",
    "#labels & text\n",
    "ax5.set_ylabel(r'$\\mathrm{n_{e}\\,[10^{19}\\,m^{-3}]}$')\n",
    "ax5.set_xlabel(r'$\\rho$ poloidal')\n",
    "ax4.set_xlabel('Time [s]')\n",
    "\n",
    "ax5.axvspan(0.0, 1.0, color='#FFC0CB')\n",
    "\n",
    "ax5.set_xlim(0.9, 1.2)\n",
    "ax5.set_ylim(-0.1, 3)\n",
    "\n",
    "\n",
    "def update2(**kwargs):\n",
    "    for i, ts in enumerate(kwargs.values()):\n",
    "        time_index = closest(time, ts)\n",
    "        hfs[i].set_xdata(rhoh[time_index])\n",
    "        lfs[i].set_xdata(rhol[time_index])\n",
    "        stamp[i].set_xdata(2*[ts])\n",
    "    fig2.canvas.draw_idle()\n",
    "    \n",
    "    \n",
    "sliders2 = []\n",
    "for i in range(number_of_profiles):\n",
    "    sliders2.append(widgets.FloatSlider(\n",
    "        value=time[draw[i]],\n",
    "        min=time[0],\n",
    "        max=time[-1],\n",
    "        step=time[1]-time[0],\n",
    "        description='slider %d'%i,\n",
    "        disabled=False,\n",
    "        continuous_update=True,\n",
    "        orientation='horizontal',\n",
    "        readout=True,\n",
    "        readout_format='.6f',\n",
    "    ))\n",
    "    \n",
    "kwargs = {'p{0}'.format(i):slider for i, slider in enumerate(sliders2)}\n",
    "\n",
    "widgets.interact(update2, **kwargs);"
   ]
  },
  {
   "cell_type": "markdown",
   "metadata": {},
   "source": [
    "**Change the window manually, or by running the cell bellow**"
   ]
  },
  {
   "cell_type": "code",
   "execution_count": null,
   "metadata": {},
   "outputs": [],
   "source": [
    "# rho poloidal window limits\n",
    "ax5.set_xlim(0.9, 1.2) # In xx direction (rho)\n",
    "ax5.set_ylim(-0.1, 3)  # In yy direction (density * 1e19)\n",
    "\n",
    "# Support signal window limits\n",
    "ax4.set_xlim(0, 8)  # In x direction (time)\n",
    "ax4.set_ylim(-0.1, 1)  # In y direction"
   ]
  },
  {
   "cell_type": "code",
   "execution_count": null,
   "metadata": {},
   "outputs": [],
   "source": [
    "save_figure(fig2, \"three_plots_rho\")"
   ]
  }
 ],
 "metadata": {
  "kernelspec": {
   "display_name": "Python 2",
   "language": "python",
   "name": "python2"
  },
  "language_info": {
   "codemirror_mode": {
    "name": "ipython",
    "version": 2
   },
   "file_extension": ".py",
   "mimetype": "text/x-python",
   "name": "python",
   "nbconvert_exporter": "python",
   "pygments_lexer": "ipython2",
   "version": "2.7.16"
  }
 },
 "nbformat": 4,
 "nbformat_minor": 2
}
