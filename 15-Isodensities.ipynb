{
 "cells": [
  {
   "cell_type": "markdown",
   "metadata": {},
   "source": [
    "# Isodensity lines in R and $\\rho$\n",
    "\n",
    "Plot isodensity lines. Optionally, you can tune a median filter to remove fast fluctuations in density.\n",
    "\n",
    "This notebook runs in autopilot, meaning you can control everything by changing a few parameters. Look for the indication **<span style=\"color:blue\">parameters</span>** to find them. Every cell contains a brief description at the top.\n",
    "\n",
    "Refer to notebook 15A for ELM-free isodensity lines."
   ]
  },
  {
   "cell_type": "markdown",
   "metadata": {},
   "source": [
    "#### Import libraries"
   ]
  },
  {
   "cell_type": "code",
   "execution_count": null,
   "metadata": {},
   "outputs": [],
   "source": [
    "%matplotlib notebook\n",
    "from IPython.core.display import display, HTML\n",
    "from ipfnpytools.getsig import getsig\n",
    "import ipfnpytools.aug_read as aug_read\n",
    "from ipfnpytools.closest import closest\n",
    "import matplotlib.pyplot as plt\n",
    "from __future__ import print_function\n",
    "from ipfnpytools.plot import plots\n",
    "from warnings import warn\n",
    "import numpy as np\n",
    "from ipfnpytools.save_figure import save_figure\n",
    "from ipfnpytools import rps_dump\n",
    "import reflectometry as rfl\n",
    "from scipy.signal import medfilt\n",
    "from ipfnpytools.trz_to_rhop import trz_to_rhop\n",
    "from ipfnpytools.trhoptheta_to_rz import trhoptheta_to_rz\n",
    "import matplotlib.patheffects as pe"
   ]
  },
  {
   "cell_type": "markdown",
   "metadata": {},
   "source": [
    "### <span style=\"color:blue\">Parameters</span>"
   ]
  },
  {
   "cell_type": "code",
   "execution_count": null,
   "metadata": {},
   "outputs": [],
   "source": [
    "# Shot number\n",
    "shot = 37447\n",
    "\n",
    "# Choose profile source between 'afs' and 'dump'\n",
    "source = 'afs'\n",
    "\n",
    "# If chosen 'dump', state the relative path\n",
    "path = None\n",
    "\n",
    "# Magnetic equillibrium \"EQH\" or \"IDE\"\n",
    "equillibrium = \"EQH\"\n",
    "\n",
    "# Adjust Isodensity parameters\n",
    "n_iso = 3           # Number of lines\n",
    "start_density = 3e18 # First isodensity\n",
    "stop_density = 3e19  # Last isodensity\n",
    "\n",
    "# Median filter number of points (n=1 is equivalente to the unfiltered signal)\n",
    "median_points = 11"
   ]
  },
  {
   "cell_type": "markdown",
   "metadata": {},
   "source": [
    "### Fetch density data and apply median filter"
   ]
  },
  {
   "cell_type": "code",
   "execution_count": null,
   "metadata": {},
   "outputs": [],
   "source": [
    "# Fetching data ---------------------------------------------------\n",
    "\n",
    "time, lfs_signal, hfs_signal, lfs_area, hfs_area = rfl.fetch(shot, path if source=='dump' else None, verbose=True)\n",
    "\n",
    "# Apply median filter to the radius\n",
    "lfs_area = medfilt(lfs_area, (median_points, 1))\n",
    "hfs_area = medfilt(hfs_area, (median_points, 1))\n",
    "\n",
    "density = lfs_signal[0,:]\n",
    "\n",
    "last_index = closest(density, stop_density)\n",
    "first_index = closest(density, start_density)\n",
    "\n",
    "if (last_index - first_index + 1) < n_iso:\n",
    "    warn(\"Impossible drawing \" + str(n_iso) + \" isodensities, drawing only \" + str(last_index - first_index + 1))\n",
    "    n_iso = last_index - first_index + 1\n"
   ]
  },
  {
   "cell_type": "markdown",
   "metadata": {},
   "source": [
    "### <span style=\"color:blue\">Parameters</span>\n",
    "\n",
    "Uncomment one of the following two lines of code according to your preference"
   ]
  },
  {
   "cell_type": "code",
   "execution_count": null,
   "metadata": {},
   "outputs": [],
   "source": [
    "# ------------------------ CHOOSE ONE -------------------------------    \n",
    "    \n",
    "# Guarantees uniform spacing but not inclusion of last isodensity\n",
    "# drawing_indexes = np.unique(range(first_index, last_index + 1, (last_index - first_index + 1)/n_iso))\n",
    "\n",
    "# Guarantees inclusion of last isodensity but not uniform spacing\n",
    "drawing_indexes = np.unique(np.rint(np.linspace(first_index, last_index, n_iso)).astype(np.int))\n",
    "\n",
    "print(\"Selected isodensities:\", [density[i] for i in drawing_indexes])"
   ]
  },
  {
   "cell_type": "markdown",
   "metadata": {},
   "source": [
    "### Plot isodensities in R \\[m\\] vs. time \\[s\\]"
   ]
  },
  {
   "cell_type": "code",
   "execution_count": null,
   "metadata": {},
   "outputs": [],
   "source": [
    "fig, axes = plots(\n",
    "    x=time, y=[lfs_area.T[i] for i in drawing_indexes] + [hfs_area.T[i] for i in drawing_indexes], \n",
    "    boxes=[0]*n_iso + [1]*n_iso, \n",
    "    labels=[\"%.2e\" % density[i] for i in drawing_indexes] + [None]*len(drawing_indexes),\n",
    "    legend_kw={'loc':'center left', 'bbox_to_anchor':[1.02,-1,0.3,2]},\n",
    "    y_mins=[None]*n_iso + [None]*n_iso,\n",
    "    y_maxs=[None]*n_iso + [None]*n_iso,\n",
    "    sharex=True,\n",
    "    y_labels=[\"LFS\\nR [m]\", \"HFS\\nR [m]\"],\n",
    "    x_labels=[\"\", \"Time [s]\"],\n",
    "    title=str(shot)\n",
    ")\n",
    "plt.tight_layout()"
   ]
  },
  {
   "cell_type": "markdown",
   "metadata": {},
   "source": [
    "### <span style=\"color:blue\">Parameters</span>\n",
    "Change the figure manualy with your cursor, or by running the following cell"
   ]
  },
  {
   "cell_type": "code",
   "execution_count": null,
   "metadata": {},
   "outputs": [],
   "source": [
    "fig.set_size_inches(11, 3.5)  # Figure size in inches (width, height)\n",
    "axes[0].set_ylim(2.1, 2.20)  # LFS range in R [m]\n",
    "axes[1].set_ylim(1.04, 1.20) # HFS range in R [m]\n",
    "\n",
    "axes[0].set_xlim(0.0, 8); # Time range [s]"
   ]
  },
  {
   "cell_type": "markdown",
   "metadata": {},
   "source": [
    "### Save the figure to your working directory"
   ]
  },
  {
   "cell_type": "code",
   "execution_count": null,
   "metadata": {},
   "outputs": [],
   "source": [
    "save_figure(fig, \"%d_isodensity\" % (shot))"
   ]
  },
  {
   "cell_type": "markdown",
   "metadata": {},
   "source": [
    "### Adding separatrix information\n",
    "\n",
    "Add primary and secondary separatrix to the isodensity plot"
   ]
  },
  {
   "cell_type": "code",
   "execution_count": null,
   "metadata": {},
   "outputs": [],
   "source": [
    "# Set the antenna Z\n",
    "zl = 0.14\n",
    "zh = 0.07\n",
    "\n",
    "parameters = 'IDG' if equillibrium == 'IDE' else 'GQH'\n",
    "\n",
    "# Get lower x point\n",
    "rxpu = getsig(shot, parameters, 'Rxpu')\n",
    "zxpu = getsig(shot, parameters, 'Zxpu')\n",
    "\n",
    "# Get upper x point\n",
    "rxpo = getsig(shot, parameters, 'Rxpo')\n",
    "zxpo = getsig(shot, parameters, 'Zxpo')\n",
    "\n",
    "# rho_x_u = trz_to_rhop(rxpu.time, rxpu.data, zxpu.data, \n",
    "#                       shot=shot, eq=equillibrium)\n",
    "# rho_x_u = np.diag(rho_x_u)\n",
    "\n",
    "rho_x_o = trz_to_rhop(rxpo.time, rxpo.data, zxpo.data, \n",
    "                      shot=shot, eq=equillibrium)\n",
    "rho_x_o = np.diag(rho_x_o)\n",
    "\n",
    "# print(rho_x_u)\n",
    "print(rho_x_o)"
   ]
  },
  {
   "cell_type": "code",
   "execution_count": null,
   "metadata": {},
   "outputs": [],
   "source": [
    "# Discover R of secondary separatrix\n",
    "\n",
    "r_second_hfs = []\n",
    "for t, rho in zip(rxpo.time, rho_x_o):\n",
    "    r_second_hfs.append(trhoptheta_to_rz(t, rho, np.pi, shot=shot, eq=equillibrium, verbose=False)[0])\n",
    "r_second_hfs = np.array(r_second_hfs)\n",
    "    \n",
    "r_second_lfs = []\n",
    "for t, rho in zip(rxpo.time, rho_x_o):\n",
    "    r_second_lfs.append(trhoptheta_to_rz(t, rho, 0, shot=shot, eq=equillibrium, verbose=False)[0])  \n",
    "r_second_lfs = np.array(r_second_lfs)\n",
    "\n",
    "# Separatrix positions\n",
    "rin = getsig(shot, parameters, 'Rin')\n",
    "raus = getsig(shot, parameters, 'Raus')"
   ]
  },
  {
   "cell_type": "markdown",
   "metadata": {},
   "source": [
    "**The next cell draws the separatrix and secondary separatrix on the previous plot**\n",
    "\n",
    "To refresh the plot and erase the separatrix information simply re-run the plotting cell "
   ]
  },
  {
   "cell_type": "code",
   "execution_count": null,
   "metadata": {},
   "outputs": [],
   "source": [
    "axes[0].plot(raus.time, medfilt(raus.data, median_points), color='black', linestyle='--', label='sep.', alpha=0.6, path_effects=[pe.Stroke(linewidth=5, alpha=0.6, foreground='w'), pe.Normal()])\n",
    "axes[1].plot(rin.time, medfilt(rin.data, median_points), color='black', linestyle='--', label='sep.', alpha=0.6, path_effects=[pe.Stroke(linewidth=5, alpha=0.6, foreground='w'), pe.Normal()])\n",
    "\n",
    "axes[0].plot(rxpo.time, medfilt(r_second_lfs, median_points), color='red', linestyle='--', label='2$^{nd}$ sep.', alpha=0.6, path_effects=[pe.Stroke(linewidth=5, alpha=0.6, foreground='w'), pe.Normal()])\n",
    "axes[1].plot(rxpo.time, medfilt(r_second_hfs, median_points), color='red', linestyle='--', label='2$^{nd}$ sep.', alpha=0.6, path_effects=[pe.Stroke(linewidth=5, alpha=0.6, foreground='w'), pe.Normal()])\n",
    "\n",
    "axes[0].legend(loc='center left', bbox_to_anchor=[1.02,-1,0.3,2], frameon=False);"
   ]
  },
  {
   "cell_type": "markdown",
   "metadata": {},
   "source": [
    "### Isodensities in $\\rho$"
   ]
  },
  {
   "cell_type": "code",
   "execution_count": null,
   "metadata": {},
   "outputs": [],
   "source": [
    "# Walls\n",
    "inner_wall = 1.045\n",
    "outer_wall = 2.22\n",
    "\n",
    "inner_wall_rho = trz_to_rhop(time, inner_wall, zh, shot, eq=equillibrium)\n",
    "outer_wall_rho = trz_to_rhop(time, outer_wall, zl, shot, eq=equillibrium)\n",
    "rhol = trz_to_rhop(time, lfs_area, np.ones_like(lfs_area)*zl, shot, eq=equillibrium)\n",
    "rhoh = trz_to_rhop(time, hfs_area, np.ones_like(hfs_area)*zh, shot, eq=equillibrium)"
   ]
  },
  {
   "cell_type": "code",
   "execution_count": null,
   "metadata": {},
   "outputs": [],
   "source": [
    "fig2, axes2 = plots(x=time, y=[rhol.T[i] for i in drawing_indexes] + [rhoh.T[i] for i in drawing_indexes], \n",
    "                  boxes=[0]*n_iso + [1]*n_iso, \n",
    "                  labels=[\"%.2e\" % density[i] for i in drawing_indexes] + [None]*len(drawing_indexes),\n",
    "                  legend_kw={'loc':'center left', 'bbox_to_anchor':[1.02,-1,0.3,2]},\n",
    "                  y_mins=[None]*n_iso + [None]*n_iso,\n",
    "                  y_maxs=[None]*n_iso + [None]*n_iso,\n",
    "                  sharex=True,\n",
    "                  sharey=True,\n",
    "                  y_labels=[r\"$\\rho$ (LFS)\", r\"$\\rho$ (HFS)\"],\n",
    "                  title=str(shot),\n",
    "                   )\n",
    "fig2.set_size_inches(11, 4)\n",
    "# plt.tight_layout()\n",
    "# plt.xlim((2, 8))\n",
    "plt.xlabel(\"Time [s]\")\n",
    "\n",
    "# axes[0].plot(raus.time, raus.data, color='black', linestyle='--', label='sep.', alpha=0.6, path_effects=[pe.Stroke(linewidth=5, alpha=0.6, foreground='w'), pe.Normal()])\n",
    "# axes[1].plot(rin.time, rin.data, color='black', linestyle='--', label='sep.', alpha=0.6, path_effects=[pe.Stroke(linewidth=5, alpha=0.6, foreground='w'), pe.Normal()])\n",
    "\n",
    "axes2[0].plot(rxpo.time, medfilt(rho_x_o, median_points), color='red', linestyle='--', label='2$^{nd}$ sep.', alpha=0.6, path_effects=[pe.Stroke(linewidth=5, alpha=0.6, foreground='w'), pe.Normal()])\n",
    "axes2[1].plot(rxpo.time, medfilt(rho_x_o, median_points), color='red', linestyle='--', label='2$^{nd}$ sep.', alpha=0.6, path_effects=[pe.Stroke(linewidth=5, alpha=0.6, foreground='w'), pe.Normal()])\n",
    "\n",
    "axes2[0].legend(loc='center left', bbox_to_anchor=[1.02,-1,0.3,2], frameon=False);"
   ]
  },
  {
   "cell_type": "markdown",
   "metadata": {},
   "source": [
    "**Change the window manually, or by running the cell bellow**"
   ]
  },
  {
   "cell_type": "code",
   "execution_count": null,
   "metadata": {},
   "outputs": [],
   "source": [
    "fig2.set_size_inches(11, 3.5)  # Figure size in inches (width, height)\n",
    "axes2[1].set_ylim(0.95, 1.2) # rho poloidal\n",
    "axes2[1].set_xlim(0, 8)      # Time[s]"
   ]
  }
 ],
 "metadata": {
  "kernelspec": {
   "display_name": "Python 2",
   "language": "python",
   "name": "python2"
  },
  "language_info": {
   "codemirror_mode": {
    "name": "ipython",
    "version": 2
   },
   "file_extension": ".py",
   "mimetype": "text/x-python",
   "name": "python",
   "nbconvert_exporter": "python",
   "pygments_lexer": "ipython2",
   "version": "2.7.16"
  }
 },
 "nbformat": 4,
 "nbformat_minor": 2
}
