{
 "cells": [
  {
   "cell_type": "markdown",
   "metadata": {},
   "source": [
    "# Shot overview"
   ]
  },
  {
   "cell_type": "code",
   "execution_count": null,
   "metadata": {},
   "outputs": [],
   "source": [
    "%matplotlib notebook\n",
    "from IPython.core.display import display, HTML\n",
    "import ipfnpytools.aug_read as aug_read\n",
    "from ipfnpytools.plot import plot_signals\n",
    "from ipfnpytools.save_figure import save_figure\n",
    "import numpy as np\n",
    "import pandas as pd\n",
    "from collections import namedtuple\n",
    "import matplotlib.pyplot as plt\n",
    "\n",
    "def valid(x):\n",
    "    return True if x is not None and np.isfinite(x) else False"
   ]
  },
  {
   "cell_type": "markdown",
   "metadata": {},
   "source": [
    "## Parameters\n",
    "\n",
    "Change the parameters in the next cell to suit your needs\n",
    "\n",
    "### Choosing the signals\n",
    "\n",
    "To add signals you must create an new row following the suggested structure. You must fill-in every parameter:\n",
    "* **diagnostic:** three-letter shotfile identifier\n",
    "* **name:** signal identifier within the shotfile\n",
    "* **scale:** scale factor, e.g., 1e6\n",
    "* **y_min / y_max:** lower and upper limits for the plot. Choose `None` to enable auto range.\n",
    "* **box:** specify in which box to draw the signal\n",
    "* **y_label:** label to put on the yy axis. Supports latex syntax, e.g., D-\\\\$\\alpha\\\\$ => D-$\\alpha$ \n",
    "* **line_width:** line width for the signal. Should be small (<1) for signals with fast fluctuations.\n",
    "\n",
    "To remove signals, simply comment the corresponding line with a `#`. To comment/uncomment multiple lines simultaneously, select the lines and press `Ctrl`+`~`"
   ]
  },
  {
   "cell_type": "code",
   "execution_count": null,
   "metadata": {},
   "outputs": [],
   "source": [
    "shot = 37447\n",
    "\n",
    "t_begins = 0 # Begin at time t_begins\n",
    "t_ends = 8 # End at time t_ends\n",
    "\n",
    "figure_size = (9, 11)  # Figure size in inches (width, height)\n",
    "\n",
    "show_columns = 1  # Number of columns in which to show the data\n",
    "\n",
    "signals = pd.DataFrame(\n",
    "    \n",
    "columns=\n",
    "['diagnostic', 'name', 'scale', 'y_min', 'y_max', 'box', 'y_label', 'line_width'],\n",
    "    \n",
    "data=[                          \n",
    "['MAG', 'Ipa'     ,  1e6, None, None, 0,                             \"$MA$\", 1.5],  # Current\n",
    "['NIS', 'PNI'     ,  1e6, None, None, 1,                             \"$MW$\", 1.5],  # Neutral beam power\n",
    "['ECS', 'PECRH'   ,  1e6, None, None, 1,                             \"$MW$\", 1.5],  # ECRH power\n",
    "['DCN', 'H-1'     , 1e19, None, None, 2, \"$\\overline{n_e}$ ($10^{19}/m^{3})$\", 1],    # Horizontal interferometer\n",
    "['DCN', 'H-5'     , 1e19, None, None, 2, \"$\\overline{n_e}$ ($10^{19}/m^{3})$\", 1],    # 45 degree upper interferometer\n",
    "# ['FPG', 'delRoben',    1, None, None , 9,                                   \"Triang.\", 1],  # Triangularity\n",
    "# ['FPG', 'Zgeo'    ,    1, None, None, 3,                                   \"z [m].\", 1],  # Triangularity\n",
    "# ['FPG', 'k'       ,    1, None, None, 4,                                   \"Elong.\", 1],  # Elongation\n",
    "# ['FPG', 'q95'     ,    1, None, None, 5,                                   \"q95\", 1],  # Elongation\n",
    "# ['TOT', 'Wmhd'    ,  1e6, None, None, 2,                     \"$W_{mhd}$ (MJ)\", 1],\n",
    "# ['FPC', 'IpiFP'   ,  1e6, None, None, 3,                       \"$I_{p}$ (MA)\", 1],\n",
    "['POT', 'ELMa-Han',    1, None, None, 3,                 r\"$D_\\alpha$ (a.u.)\", 0.1],\n",
    "['POT', 'ELMi-Han',    1, None, None, 3,                 r\"$D_\\alpha$ (a.u.)\", 0.1],\n",
    "# ['TOT', 'P_OH'    ,  1e6, None, None, 5,                             \"P (MW)\", 1],\n",
    "# ['ECS', 'PECRH'   ,  1e6, None, None, 5,                             \"P (MW)\", 1],\n",
    "# ['BPD', 'Pradtot' ,  1e6, None, None, 5,                             \"P (MW)\", 1],\n",
    "['MAC', 'Ipolsola',  1e3,  None, None, 4,                     \"$I_{div}$ (kA)\", 0.1],  # Outer div. current\n",
    "['MAC', 'Ipolsoli',  1e3,  None, None, 4,                     \"$I_{div}$ (kA)\", 0.1],  # Inner div. current\n",
    "# ['UVS', 'D_tot'   , 1e21, None, None, 7,                 \"Fuel ($10^{21}$/s)\", 2],  # Deuterium injection\n",
    "# ['UVS', 'N_tot'   , 1e21, None, None, 4,                 \"Fuel ($10^{21}$/s)\", 2],  # N injection\n",
    "# ['UVS', 'CFDu13B' , 1e21, None, None, 2,                 \"Fuel ($10^{21}$/s)\", 2],\n",
    "# ['UVS', 'CFA13A'  , 1e21, None, None, 2,                 \"Fuel ($10^{21}$/s)\", 2],\n",
    "['UVS', 'H_tot'   , 1e21, None, None, 5,                 \"Fuel ($10^{21}$/s)\", 1],  # Hydrogen injection\n",
    "# ['DDS', 'Tdiv'    ,    1, None, None, 8,                              \"eV???\", 1]\n",
    "])"
   ]
  },
  {
   "cell_type": "markdown",
   "metadata": {},
   "source": [
    "## Confirm the signal selection"
   ]
  },
  {
   "cell_type": "code",
   "execution_count": null,
   "metadata": {},
   "outputs": [],
   "source": [
    "# Confirm everything is has you want\n",
    "signals"
   ]
  },
  {
   "cell_type": "markdown",
   "metadata": {},
   "source": [
    "## Load the signals from AFS"
   ]
  },
  {
   "cell_type": "code",
   "execution_count": null,
   "metadata": {},
   "outputs": [],
   "source": [
    "data = aug_read.many_signals(\n",
    "    diagnostics=signals['diagnostic'].tolist(),\n",
    "    names=signals['name'].tolist(),\n",
    "    shots=shot)"
   ]
  },
  {
   "cell_type": "markdown",
   "metadata": {},
   "source": [
    "## Plot signals"
   ]
  },
  {
   "cell_type": "code",
   "execution_count": null,
   "metadata": {},
   "outputs": [],
   "source": [
    "fig, axes, fig_name = plot_signals(\n",
    "    times = data.times, signals = data.signals,\n",
    "    diagnostics = signals['diagnostic'].tolist(),\n",
    "    names=signals['name'].tolist(), \n",
    "    boxes=signals['box'].tolist(), \n",
    "    signal_multipliers=[1.0/x for x in signals['scale'].tolist()],\n",
    "    y_labels=signals.sort_values(by='box')['y_label'].unique(),\n",
    "    postfixes=\"overview\", ncols=show_columns,\n",
    "    order='row',\n",
    "    t_begins=t_begins, t_ends=t_ends,\n",
    "    hspace = 0.1,\n",
    "    title=str(shot),\n",
    "    linewidths=signals['line_width'].tolist(),\n",
    ")\n",
    "\n",
    "fig.set_size_inches(*figure_size)\n",
    "\n",
    "# Set proper limits and labels \n",
    "for index, row in signals.iterrows():\n",
    "    axes.flatten()[row['box']].set_ylim(row['y_min'] if valid(row['y_min']) else None,\n",
    "                              row['y_max'] if valid(row['y_max']) else None)"
   ]
  },
  {
   "cell_type": "markdown",
   "metadata": {},
   "source": [
    "**Run the cell bellow to save the figure.** File name is automatic. To customize the file name, replace `fig_name` with an apropriate name, e.g, `\"my_figure\"`"
   ]
  },
  {
   "cell_type": "code",
   "execution_count": null,
   "metadata": {},
   "outputs": [],
   "source": [
    "save_figure(fig, fig_name)"
   ]
  }
 ],
 "metadata": {
  "kernelspec": {
   "display_name": "Python 2",
   "language": "python",
   "name": "python2"
  },
  "language_info": {
   "codemirror_mode": {
    "name": "ipython",
    "version": 2
   },
   "file_extension": ".py",
   "mimetype": "text/x-python",
   "name": "python",
   "nbconvert_exporter": "python",
   "pygments_lexer": "ipython2",
   "version": "2.7.16"
  }
 },
 "nbformat": 4,
 "nbformat_minor": 2
}
