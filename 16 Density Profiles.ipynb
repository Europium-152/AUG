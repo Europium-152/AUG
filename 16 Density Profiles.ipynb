{
 "cells": [
  {
   "cell_type": "markdown",
   "metadata": {},
   "source": [
    "# Interactive density profiles\n",
    "\n",
    "Plot an arbitrary number of density profiles in R\\[m\\] and in $\\rho$. Adjust the time instants interactively. The time instants are highlighted on top of a chosen signal from AFS.\n",
    "\n",
    "This notebook runs in autopilot, meaning you can control everything by changing a few parameters. Look for the indication **<span style=\"color:blue\">parameters</span>** to find them. Every cell contains a brief description at the top.\n",
    "\n",
    "Refer to notebook 16A for averaged density profiles, and notebook 16B for ELM-free density profiles."
   ]
  },
  {
   "cell_type": "markdown",
   "metadata": {},
   "source": [
    "#### Import libraries"
   ]
  },
  {
   "cell_type": "code",
   "execution_count": null,
   "metadata": {},
   "outputs": [],
   "source": [
    "%matplotlib notebook\n",
    "from ipfnpytools.getsig import getsig\n",
    "import ipfnpytools.aug_read as aug_read\n",
    "from ipfnpytools.closest import closest\n",
    "from ipfnpytools.plot import plots\n",
    "from warnings import warn\n",
    "import numpy as np\n",
    "from ipfnpytools.save_figure import save_figure\n",
    "from ipfnpytools import rps_dump\n",
    "import numpy as np\n",
    "import matplotlib.pyplot as plt\n",
    "import matplotlib.animation as animation\n",
    "import ipywidgets as widgets\n",
    "import reflectometry as rfl\n",
    "from ipfnpytools.trz_to_rhop import trz_to_rhop"
   ]
  },
  {
   "cell_type": "markdown",
   "metadata": {},
   "source": [
    "### <span style=\"color:blue\">Parameters</span>"
   ]
  },
  {
   "cell_type": "code",
   "execution_count": null,
   "metadata": {},
   "outputs": [],
   "source": [
    "# Shot number\n",
    "shot = 37765\n",
    "\n",
    "# Choose edition for reflectometry (0 for most recent)\n",
    "edition = 0\n",
    "\n",
    "# Choose profile source between 'afs' and 'dump'\n",
    "source = 'afs'\n",
    "\n",
    "# Path to dump file \n",
    "path = None \n",
    "\n",
    "# Signal to overlay the density profiles\n",
    "support_signal = ('FPG', 'delRoben')\n",
    "\n",
    "# Choose edition for the supporting signal (0 for most recent)\n",
    "support_signal_edition = 0\n",
    "\n",
    "# Magnetic equillibrium \"EQH\" or \"IDE\"\n",
    "equillibrium = \"EQH\"\n",
    "\n",
    "# Number of density profiles to show in the plots\n",
    "number_of_profiles = 3\n",
    "\n",
    "# Show HFS and LFS rho profiles on the same window\n",
    "show_same = False\n",
    "\n",
    "# Show wall on the rho plots\n",
    "show_wall = True\n",
    "\n",
    "# *** End of parameters ***"
   ]
  },
  {
   "cell_type": "markdown",
   "metadata": {},
   "source": [
    "### Load support signal from AFS"
   ]
  },
  {
   "cell_type": "code",
   "execution_count": null,
   "metadata": {},
   "outputs": [],
   "source": [
    "signal = getsig(shot, support_signal[0], support_signal[1], edition=support_signal_edition)\n",
    "plots(signal.time, signal.data, labels=signal.name)"
   ]
  },
  {
   "cell_type": "markdown",
   "metadata": {},
   "source": [
    "### Fetch density profile data"
   ]
  },
  {
   "cell_type": "code",
   "execution_count": null,
   "metadata": {},
   "outputs": [],
   "source": [
    "time, lfs_signal, hfs_signal, lfs_area, hfs_area = rfl.fetch(shot, path if source=='dump' else None, verbose=False)\n",
    "\n",
    "# Unit conversion\n",
    "lfs_signal*=1e-19\n",
    "hfs_signal*=1e-19\n",
    "\n",
    "# Remove NaN's\n",
    "lfs_area = np.nan_to_num(lfs_area)\n",
    "hfs_area = np.nan_to_num(hfs_area)"
   ]
  },
  {
   "cell_type": "markdown",
   "metadata": {},
   "source": [
    "### Plot density vs. R \\[m\\]"
   ]
  },
  {
   "cell_type": "code",
   "execution_count": null,
   "metadata": {},
   "outputs": [],
   "source": [
    "fig1, ax1, ax2, ax3 = rfl.two_plus_one(\n",
    "    x1=signal.time, y1=signal.data, \n",
    "    x23=time, y2=hfs_area, y3=lfs_area, \n",
    "    z2=hfs_signal, z3=lfs_signal, \n",
    "    lx1=\"Time [s]\", ly1='',\n",
    "    ly2=\"HFS R [m]\", lz2=r'$\\mathrm{n_{e}\\,[10^{19}\\,m^{-3}]}$',\n",
    "    ly3=\"LFS R [m]\", lz3=r'$\\mathrm{n_{e}\\,[10^{19}\\,m^{-3}]}$',\n",
    "    number_of_profiles=number_of_profiles, \n",
    "    m2=None, m3=None, \n",
    "    strip_pts=1, show_same=False, \n",
    "    paint_rho=False, paint_wall=True,\n",
    "    sharex=False, sharey=True,\n",
    ")"
   ]
  },
  {
   "cell_type": "markdown",
   "metadata": {},
   "source": [
    "## <span style=\"color:blue\">Parameters</span>\n",
    "Change the figure manualy with your cursor, or by running the following cell"
   ]
  },
  {
   "cell_type": "code",
   "execution_count": null,
   "metadata": {},
   "outputs": [],
   "source": [
    "fig1.set_size_inches(10, 7)  # Figure size in inches (widht, height)\n",
    "\n",
    "ax1.set_xlim(None, None)  # Bottom plot x-range\n",
    "ax1.set_ylim(None, None)  # Bottom plot y-range\n",
    "\n",
    "ax2.set_xlim(1, 1.2)  # Top-left plot x-range\n",
    "ax2.set_ylim(0, 3)  # Top-left plot y-range\n",
    "\n",
    "ax3.set_xlim(1.6, 2.3) # Top-right plot x-range\n",
    "ax3.set_ylim(0, 3)  # Top-right plot y-range"
   ]
  },
  {
   "cell_type": "markdown",
   "metadata": {},
   "source": [
    "### Save the figure to your working directory"
   ]
  },
  {
   "cell_type": "code",
   "execution_count": null,
   "metadata": {},
   "outputs": [],
   "source": [
    "save_figure(fig1, \"timed_profiles\")"
   ]
  },
  {
   "cell_type": "markdown",
   "metadata": {},
   "source": [
    "### Convert R \\[m\\] to $\\rho$"
   ]
  },
  {
   "cell_type": "code",
   "execution_count": null,
   "metadata": {},
   "outputs": [],
   "source": [
    "# Set the antenna Z\n",
    "zl = 0.14\n",
    "zh = 0.07\n",
    "\n",
    "# Walls\n",
    "inner_wall = 1.045\n",
    "outer_wall = 2.22\n",
    "\n",
    "inner_wall_rho = trz_to_rhop(time, inner_wall, zh, shot, eq=equillibrium)\n",
    "outer_wall_rho = trz_to_rhop(time, outer_wall, zl, shot, eq=equillibrium)\n",
    "\n",
    "rhol = trz_to_rhop(time, lfs_area, np.ones_like(lfs_area)*zl, shot, eq=equillibrium)\n",
    "rhoh = trz_to_rhop(time, hfs_area, np.ones_like(hfs_area)*zh, shot, eq=equillibrium)"
   ]
  },
  {
   "cell_type": "markdown",
   "metadata": {},
   "source": [
    "### Plot density vs. $\\rho$"
   ]
  },
  {
   "cell_type": "code",
   "execution_count": null,
   "metadata": {},
   "outputs": [],
   "source": [
    "fig2, ax4, ax5, ax6 = rfl.two_plus_one(\n",
    "    x1=signal.time, y1=signal.data, \n",
    "    x23=time, y2=rhoh, y3=rhol, \n",
    "    z2=hfs_signal, z3=lfs_signal, \n",
    "    lx1=\"Time [s]\", ly1='',\n",
    "    ly2=r\"$\\rho$\" if show_same else r\"HFS $\\rho$\",  \n",
    "    lz2=r'$\\mathrm{n_{e}\\,[10^{19}\\,m^{-3}]}$',\n",
    "    ly3=r\"LFS $\\rho$\", lz3=r'$\\mathrm{n_{e}\\,[10^{19}\\,m^{-3}]}$',\n",
    "    number_of_profiles=number_of_profiles, \n",
    "    m2=inner_wall_rho if show_wall else None, \n",
    "    m3=outer_wall_rho if show_wall else None, \n",
    "    strip_pts=1, show_same=show_same, \n",
    "    paint_rho=True, paint_wall=False,\n",
    "    sharex=True, sharey=True,\n",
    ")"
   ]
  },
  {
   "cell_type": "markdown",
   "metadata": {},
   "source": [
    "## <span style=\"color:blue\">Parameters</span>\n",
    "Change the above figure manualy with your cursor, or by running the following cell"
   ]
  },
  {
   "cell_type": "code",
   "execution_count": null,
   "metadata": {},
   "outputs": [],
   "source": [
    "fig2.set_size_inches(10, 7)  # Figure size in inches (width, height)\n",
    "\n",
    "ax4.set_xlim(None, None)  # Bottom plot x-range\n",
    "ax4.set_ylim(None, None)  # Bottom plot y-range\n",
    "\n",
    "ax5.set_xlim(0.9, 1.2)  # Top-left plot x-range\n",
    "ax5.set_ylim(0, 3)  # Top-left plot y-range\n",
    "\n",
    "ax6.set_xlim(0.9, 1.2) # Top-right plot x-range\n",
    "ax6.set_ylim(0, 3)  # Top-right plot y-range"
   ]
  },
  {
   "cell_type": "markdown",
   "metadata": {},
   "source": [
    "### Save the figure to your working directory"
   ]
  },
  {
   "cell_type": "code",
   "execution_count": null,
   "metadata": {},
   "outputs": [],
   "source": [
    "save_figure(fig2, \"three_plots_rho\")"
   ]
  }
 ],
 "metadata": {
  "kernelspec": {
   "display_name": "Python 2",
   "language": "python",
   "name": "python2"
  },
  "language_info": {
   "codemirror_mode": {
    "name": "ipython",
    "version": 2
   },
   "file_extension": ".py",
   "mimetype": "text/x-python",
   "name": "python",
   "nbconvert_exporter": "python",
   "pygments_lexer": "ipython2",
   "version": "2.7.16"
  }
 },
 "nbformat": 4,
 "nbformat_minor": 2
}
