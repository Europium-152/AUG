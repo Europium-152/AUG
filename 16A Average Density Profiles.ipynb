{
 "cells": [
  {
   "cell_type": "markdown",
   "metadata": {},
   "source": [
    "# Average density profiles\n",
    "\n",
    "Plot time-averaged density profiles and their standard deviation."
   ]
  },
  {
   "cell_type": "markdown",
   "metadata": {},
   "source": [
    "#### Import libraries"
   ]
  },
  {
   "cell_type": "code",
   "execution_count": null,
   "metadata": {},
   "outputs": [],
   "source": [
    "%matplotlib notebook\n",
    "from IPython.core.display import display, HTML\n",
    "from ipfnpytools.getsig import getsig\n",
    "import ipfnpytools.aug_read as aug_read\n",
    "from ipfnpytools.closest import closest\n",
    "from __future__ import print_function\n",
    "from ipfnpytools.plot import plots\n",
    "from warnings import warn\n",
    "import numpy as np\n",
    "from ipfnpytools.save_figure import save_figure\n",
    "from ipfnpytools import rps_dump\n",
    "import numpy as np\n",
    "import matplotlib.pyplot as plt\n",
    "import matplotlib.animation as animation\n",
    "import ipywidgets as widgets#### Import libraries\n",
    "import pandas as pd\n",
    "import reflectometry as rfl\n",
    "from ipfnpytools.trz_to_rhop import trz_to_rhop"
   ]
  },
  {
   "cell_type": "markdown",
   "metadata": {},
   "source": [
    "### <span style=\"color:blue\">Parameters</span>"
   ]
  },
  {
   "cell_type": "code",
   "execution_count": null,
   "metadata": {},
   "outputs": [],
   "source": [
    "# Shot number\n",
    "shot = 37735\n",
    "\n",
    "# Choose edition for reflectometry (0 for most recent)\n",
    "edition = 0\n",
    "\n",
    "# Choose profile source between 'afs' and 'dump'\n",
    "source = 'afs'\n",
    "\n",
    "# Path to dump file \n",
    "path = None\n",
    "\n",
    "# Signal to overlay the density profiles\n",
    "support_signal = ('UVS', 'D_tot')\n",
    "\n",
    "# Choose edition for the supporting signal (0 for most recent)\n",
    "support_signal_edition = 0\n",
    "\n",
    "# Magnetic equillibrium \"EQH\" or \"IDE\"\n",
    "equillibrium = \"IDE\"\n",
    "\n",
    "# Number of density profiles to show in the plots\n",
    "number_of_profiles = 2\n",
    "\n",
    "# Size of window to average profiles [ms]\n",
    "time_window = 500\n",
    "\n",
    "# Show error bars corresponding to the standard deviation of the average profile\n",
    "show_std = True\n",
    "\n",
    "# Show HFS and LFS rho profiles in the same window\n",
    "show_same = False\n",
    "\n",
    "# Show wall\n",
    "show_wall = False\n",
    "\n",
    "# HFS cutoff density (1e19 m^-3)\n",
    "hfs_cut = 3.0"
   ]
  },
  {
   "cell_type": "markdown",
   "metadata": {},
   "source": [
    "### Load support signal from AFS"
   ]
  },
  {
   "cell_type": "code",
   "execution_count": null,
   "metadata": {},
   "outputs": [],
   "source": [
    "signal = getsig(shot, support_signal[0], support_signal[1], edition=support_signal_edition)\n",
    "plots(signal.time, signal.data, labels=signal.name)"
   ]
  },
  {
   "cell_type": "markdown",
   "metadata": {},
   "source": [
    "### Fetch density profile data"
   ]
  },
  {
   "cell_type": "code",
   "execution_count": null,
   "metadata": {},
   "outputs": [],
   "source": [
    "time, lfs_signal, hfs_signal, lfs_area, hfs_area = rfl.fetch(shot, path if source=='dump' else None, verbose=False)\n",
    "\n",
    "# Unit conversion\n",
    "lfs_signal*=1e-19\n",
    "hfs_signal*=1e-19\n",
    "\n",
    "# Cutoff HFS density\n",
    "idx = hfs_signal[0] < hfs_cut\n",
    "hfs_signal = hfs_signal[:, idx]\n",
    "hfs_area = hfs_area[:, idx]\n",
    "\n",
    "# Remove NaNs\n",
    "lfs_area = np.nan_to_num(lfs_area)\n",
    "hfs_area = np.nan_to_num(hfs_area)"
   ]
  },
  {
   "cell_type": "markdown",
   "metadata": {},
   "source": [
    "### Compute the average and standard deviation"
   ]
  },
  {
   "cell_type": "code",
   "execution_count": null,
   "metadata": {},
   "outputs": [],
   "source": [
    "N = int(time_window*1e-3 / (time[1] - time[0]))\n",
    "print(\"Averaging %d profiles on a %.3lf ms window.\" % (N, time_window))\n",
    "\n",
    "lfs_average = pd.DataFrame(lfs_area).rolling(window=N).mean().values\n",
    "hfs_average = pd.DataFrame(hfs_area).rolling(window=N).mean().values\n",
    "\n",
    "lfs_std = pd.DataFrame(lfs_area).rolling(window=N).std().values\n",
    "hfs_std = pd.DataFrame(hfs_area).rolling(window=N).std().values"
   ]
  },
  {
   "cell_type": "markdown",
   "metadata": {},
   "source": [
    "### Plot density vs. R \\[m\\]"
   ]
  },
  {
   "cell_type": "code",
   "execution_count": null,
   "metadata": {},
   "outputs": [],
   "source": [
    "fig1, ax1, ax2, ax3 = rfl.two_plus_one(\n",
    "    x1=signal.time, y1=signal.data, \n",
    "    x23=time, y2=hfs_average, y3=lfs_average, \n",
    "    z2=hfs_signal, z3=lfs_signal, \n",
    "    ey2=hfs_std if show_std else None, \n",
    "    ey3=lfs_std if show_std else None,\n",
    "    lx1=\"Time [s]\", ly1=support_signal[0] + '/' + support_signal[1],\n",
    "    ly2=\"HFS R [m]\", lz2=r'$\\mathrm{n_{e}\\,[10^{19}\\,m^{-3}]}$',\n",
    "    ly3=\"LFS R [m]\", lz3=r'$\\mathrm{n_{e}\\,[10^{19}\\,m^{-3}]}$',\n",
    "    number_of_profiles=number_of_profiles, \n",
    "    m2=None, m3=None, \n",
    "    strip_pts=N, show_same=False, \n",
    "    paint_rho=False, paint_wall=True,\n",
    "    sharex=False, sharey=True,\n",
    ")"
   ]
  },
  {
   "cell_type": "markdown",
   "metadata": {},
   "source": [
    "## <span style=\"color:blue\">Parameters</span>\n",
    "Change the above figure manualy with your cursor, or by running the following cell"
   ]
  },
  {
   "cell_type": "code",
   "execution_count": null,
   "metadata": {},
   "outputs": [],
   "source": [
    "fig1.set_size_inches(10, 7)  # Figure size in inches (widht, height)\n",
    "\n",
    "ax1.set_xlim(0, 8)  # Bottom plot x-range\n",
    "ax1.set_ylim(None, None)  # Bottom plot y-range\n",
    "\n",
    "ax2.set_xlim(1, 1.2)  # Top-left plot x-range\n",
    "ax2.set_ylim(0, 3)  # Top-left plot y-range\n",
    "\n",
    "ax3.set_xlim(1.6, 2.3) # Top-right plot x-range\n",
    "ax3.set_ylim(0, 3)  # Top-right plot y-range"
   ]
  },
  {
   "cell_type": "markdown",
   "metadata": {},
   "source": [
    "### Save the figure to your working directory"
   ]
  },
  {
   "cell_type": "code",
   "execution_count": null,
   "metadata": {},
   "outputs": [],
   "source": [
    "save_figure(fig1, \"%d_average_profiles\" % (shot))"
   ]
  },
  {
   "cell_type": "markdown",
   "metadata": {},
   "source": [
    "### Convert R \\[m\\] to $\\rho$ and compute the average and std."
   ]
  },
  {
   "cell_type": "code",
   "execution_count": null,
   "metadata": {},
   "outputs": [],
   "source": [
    "# Set the antenna Z\n",
    "zl = 0.14\n",
    "zh = 0.07\n",
    "\n",
    "# Walls\n",
    "inner_wall = 1.045\n",
    "outer_wall = 2.22\n",
    "\n",
    "inner_wall_rho = trz_to_rhop(time, inner_wall, zh, shot, eq=equillibrium)\n",
    "outer_wall_rho = trz_to_rhop(time, outer_wall, zl, shot, eq=equillibrium)\n",
    "\n",
    "rhol = trz_to_rhop(time, lfs_area, np.ones_like(lfs_area)*zl, shot, eq=equillibrium)\n",
    "rhoh = trz_to_rhop(time, hfs_area, np.ones_like(hfs_area)*zh, shot, eq=equillibrium)\n",
    "\n",
    "# Remove NaNs  ---------------------------------------------\n",
    "rhol = np.nan_to_num(rhol)\n",
    "rhoh = np.nan_to_num(rhoh)"
   ]
  },
  {
   "cell_type": "markdown",
   "metadata": {},
   "source": [
    "###  Compute the average and std in $\\rho$"
   ]
  },
  {
   "cell_type": "code",
   "execution_count": null,
   "metadata": {},
   "outputs": [],
   "source": [
    "rhol_average = pd.DataFrame(rhol).rolling(window=N, center=True).mean().values\n",
    "rhoh_average = pd.DataFrame(rhoh).rolling(window=N, center=True).mean().values\n",
    "\n",
    "rhol_std = pd.DataFrame(rhol).rolling(window=N, center=True).std().values\n",
    "rhoh_std = pd.DataFrame(rhoh).rolling(window=N, center=True).std().values"
   ]
  },
  {
   "cell_type": "markdown",
   "metadata": {},
   "source": [
    "### Plot density vs. $\\rho$"
   ]
  },
  {
   "cell_type": "code",
   "execution_count": null,
   "metadata": {},
   "outputs": [],
   "source": [
    "fig2, ax4, ax5, ax6 = rfl.two_plus_one(\n",
    "    x1=signal.time, y1=signal.data, \n",
    "    x23=time, y2=rhoh_average, y3=rhol_average, \n",
    "    z2=hfs_signal, z3=lfs_signal, \n",
    "    ey2=rhoh_std if show_std else None, \n",
    "    ey3=rhol_std if show_std else None,\n",
    "    lx1=\"Time [s]\", ly1=support_signal[0] + '/' + support_signal[1],\n",
    "    ly2=r\"$\\rho$\" if show_same else r\"HFS $\\rho$ poloidal\",### Plot density vs. $\\rho$ \n",
    "    lz2=r'$\\mathrm{n_{e}\\,[10^{19}\\,m^{-3}]}$',\n",
    "    ly3=r\"LFS $\\rho$ poloidal\", lz3=r'$\\mathrm{n_{e}\\,[10^{19}\\,m^{-3}]}$',\n",
    "    number_of_profiles=number_of_profiles, \n",
    "    m2=inner_wall_rho if show_wall else None, \n",
    "    m3=outer_wall_rho if show_wall else None, \n",
    "    strip_pts=N, show_same=show_same, \n",
    "    paint_rho=True, paint_wall=False,\n",
    "    sharex=False, sharey=True,\n",
    ")\n",
    "\n",
    "\n",
    "# *** PARAMETERS ***\n",
    "# Plotting options. `None` means automatic\n",
    "\n",
    "fig2.set_size_inches(10, 7)\n",
    "\n",
    "ax4.set_xlim(None, None)  # Bottom plot x-range\n",
    "ax4.set_ylim(None, None)  # Bottom plot y-range\n",
    "\n",
    "ax5.set_xlim(0.9, 1.2)  # Top-left plot x-range\n",
    "ax5.set_ylim(0, 3)  # Top-left plot y-range\n",
    "\n",
    "ax6.set_xlim(0.9, 1.2) # Top-right plot x-range\n",
    "ax6.set_ylim(0, 3)  # Top-right plot y-range"
   ]
  },
  {
   "cell_type": "markdown",
   "metadata": {},
   "source": [
    "## <span style=\"color:blue\">Parameters</span>\n",
    "Change the figure manualy with your cursor, or by running the following cell"
   ]
  },
  {
   "cell_type": "code",
   "execution_count": null,
   "metadata": {},
   "outputs": [],
   "source": [
    "fig2.set_size_inches(10, 5.5)  # Figure size in inches (width, height)\n",
    "\n",
    "ax4.set_xlim(0, 8)  # Bottom plot x-range\n",
    "ax4.set_ylim(None, None)  # Bottom plot y-range\n",
    "\n",
    "ax5.set_xlim(0.90, 1.15)  # Top-left plot x-range\n",
    "ax5.set_ylim(0, 5)  # Top-left plot y-range\n",
    "\n",
    "ax6.set_xlim(0.90, 1.15) # Top-right plot x-range\n",
    "ax6.set_ylim(0, 5)  # Top-right plot y-range"
   ]
  },
  {
   "cell_type": "markdown",
   "metadata": {},
   "source": [
    "### Save the figure to your working directory"
   ]
  },
  {
   "cell_type": "code",
   "execution_count": null,
   "metadata": {},
   "outputs": [],
   "source": [
    "save_figure(fig2, \"%d_average_profiles_rho\" % (shot))"
   ]
  }
 ],
 "metadata": {
  "kernelspec": {
   "display_name": "Python 2",
   "language": "python",
   "name": "python2"
  },
  "language_info": {
   "codemirror_mode": {
    "name": "ipython",
    "version": 2
   },
   "file_extension": ".py",
   "mimetype": "text/x-python",
   "name": "python",
   "nbconvert_exporter": "python",
   "pygments_lexer": "ipython2",
   "version": "2.7.16"
  }
 },
 "nbformat": 4,
 "nbformat_minor": 2
}
