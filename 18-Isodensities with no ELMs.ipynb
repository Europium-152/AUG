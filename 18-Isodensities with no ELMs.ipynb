{
 "cells": [
  {
   "cell_type": "markdown",
   "metadata": {},
   "source": [
    "# Isodensity lines in R and $\\rho$"
   ]
  },
  {
   "cell_type": "code",
   "execution_count": null,
   "metadata": {},
   "outputs": [],
   "source": [
    "%matplotlib notebook\n",
    "\n",
    "from IPython.core.display import display, HTML\n",
    "from ipfnpytools.getsig import getsig\n",
    "import ipfnpytools.aug_read as aug_read\n",
    "from ipfnpytools.closest import closest\n",
    "import matplotlib.pyplot as plt\n",
    "from __future__ import print_function\n",
    "from ipfnpytools.plot import plots\n",
    "from warnings import warn\n",
    "import numpy as np\n",
    "from ipfnpytools.save_figure import save_figure\n",
    "from ipfnpytools import rps_dump\n",
    "from ipfnpytools.ddremoveELMData import ddremoveELMData\n",
    "import reflectometry as rfl\n",
    "from scipy.signal import medfilt"
   ]
  },
  {
   "cell_type": "markdown",
   "metadata": {},
   "source": [
    "## Parameters\n",
    "\n",
    "Change at your own risk. Not guaranteed it will not explode"
   ]
  },
  {
   "cell_type": "code",
   "execution_count": null,
   "metadata": {},
   "outputs": [],
   "source": [
    "# Shot number\n",
    "shot = 37750\n",
    "\n",
    "# Choose profile source between 'afs' and 'dump'\n",
    "source = 'afs'\n",
    "\n",
    "# If chosen 'dump', state the relative path\n",
    "path = None\n",
    "\n",
    "# Magnetic equillibrium\n",
    "equillibrium = \"EQH\"\n",
    "\n",
    "# Adjust Isodensity parameters\n",
    "n_iso = 10           # Number of lines\n",
    "start_density = 3e18 # First isodensity\n",
    "stop_density = 3e19  # Last isodensity\n",
    "\n",
    "# Time to reject before each ELM peak [ms]\n",
    "preft = 1\n",
    "\n",
    "# Time to reject after each ELM peak [ms]\n",
    "suft = 2\n",
    "\n",
    "# Select diagnostic for testing ELM rejection (\"Shotfile\", \"Signal\")\n",
    "diag = (\"MAC\", \"Ipolsoli\")\n",
    "\n",
    "# Median filter number of points (n=1 is equivalente to the unfiltered signal)\n",
    "median_points = 31"
   ]
  },
  {
   "cell_type": "code",
   "execution_count": null,
   "metadata": {},
   "outputs": [],
   "source": [
    "# Fetching data ---------------------------------------------------\n",
    "\n",
    "time, lfs_signal, hfs_signal, lfs_area, hfs_area = rfl.fetch(shot, path if source=='dump' else None, verbose=True)"
   ]
  },
  {
   "cell_type": "markdown",
   "metadata": {},
   "source": [
    "## Remove ELMs\n",
    "\n",
    "Using the _ELM_ shotfile we mask the ELMs. To better filter out the ELMs we need to specify a rejection window arround the ELM peak. For example, we can reject one millisecond before the peak `preft = 1` and two milliseconds after the peak `suft=2`. To verify that the ELM rejection routine is working properly, we can test it on an arbitrary diagnostic, e.g., `MAC/Ipolsoli` or `POT/EMLa-Han`\n",
    "\n",
    "**Change the parameters in the next cell accordingly.**"
   ]
  },
  {
   "cell_type": "code",
   "execution_count": null,
   "metadata": {},
   "outputs": [],
   "source": [
    "# Get ELM mask from the ELM shotfile\n",
    "test_signal = getsig(shot, diag[0], diag[1])\n",
    "elmmsk = ddremoveELMData(shot, test_signal.time, preft=preft*1e-3, suft=suft*1e-3)"
   ]
  },
  {
   "cell_type": "code",
   "execution_count": null,
   "metadata": {},
   "outputs": [],
   "source": [
    "plt.figure(figsize=(9, 3))\n",
    "plt.plot(test_signal.time, test_signal.data, lw=0.3)\n",
    "plt.scatter(test_signal.time[elmmsk], test_signal.data[elmmsk], color='C1', marker='o', s=1)\n",
    "plt.grid()\n",
    "plt.xlabel(\"Time [s]\")\n",
    "plt.tight_layout()\n",
    "# plt.xlim(2.2, 6.3)\n",
    "# plt.ylim(-4e4, 4e4)"
   ]
  },
  {
   "cell_type": "markdown",
   "metadata": {},
   "source": [
    "## Remove ELMs from the density profiles"
   ]
  },
  {
   "cell_type": "code",
   "execution_count": null,
   "metadata": {},
   "outputs": [],
   "source": [
    "mask = ddremoveELMData(shot, time, preft=preft*1e-3, suft=suft*1e-3)"
   ]
  },
  {
   "cell_type": "code",
   "execution_count": null,
   "metadata": {},
   "outputs": [],
   "source": [
    "# Apply the ELM removal mask\n",
    "lfs_area_masked = lfs_area[mask]\n",
    "hfs_area_masked = hfs_area[mask]\n",
    "\n",
    "# Apply median filter\n",
    "lfs_area_median = medfilt(lfs_area_masked, (median_points, 1))\n",
    "hfs_area_median = medfilt(hfs_area_masked, (median_points, 1))"
   ]
  },
  {
   "cell_type": "code",
   "execution_count": null,
   "metadata": {},
   "outputs": [],
   "source": [
    "# Preprocessing --------------------------------------------------\n",
    "\n",
    "#Isodensities. Transpose `area` so density is the first index\n",
    "lfs_isodensity = lfs_area_masked.T\n",
    "hfs_isodensity = hfs_area_masked.T\n",
    "density = lfs_signal[0,:]\n",
    "\n",
    "print(\"lfs_isodensity\", lfs_isodensity.shape)\n",
    "print(\"density\", density.shape)\n",
    "print(\"time\", time.shape)\n",
    "\n",
    "last_index = closest(density, stop_density)\n",
    "first_index = closest(density, start_density)\n",
    "\n",
    "if (last_index - first_index + 1) < n_iso:\n",
    "    warn(\"Impossible drawing \" + str(n_iso) + \" isodensities, drawing only \" + str(last_index - first_index + 1))\n",
    "\n",
    "# ------------------------ CHOOSE ONE -------------------------------    \n",
    "    \n",
    "# Guarantees uniform spacing but not inclusion of last isodensity\n",
    "# drawing_indexes = range(first_index, last_index + 1, (last_index - first_index + 1)/n_iso)\n",
    "\n",
    "# Guarantees inclusion of last isodensity but not uniform spacing\n",
    "drawing_indexes = np.rint(np.linspace(first_index, last_index, n_iso)).astype(np.int)\n",
    "\n",
    "print(\"Drawing_indexes:\", drawing_indexes)"
   ]
  },
  {
   "cell_type": "markdown",
   "metadata": {},
   "source": [
    "## Check that ELM filtering and median filtering are working well"
   ]
  },
  {
   "cell_type": "code",
   "execution_count": null,
   "metadata": {},
   "outputs": [],
   "source": [
    "i = 90\n",
    "fig0, axes0 = plots(x=[time, time[mask], time[mask], time, time[mask], time[mask]], \n",
    "                    y=[lfs_area.T[i], lfs_area_masked.T[i], lfs_area_median.T[i], hfs_area.T[i], hfs_area_masked.T[i], hfs_area_median.T[i]],\n",
    "                    boxes=[0, 0, 0, 1, 1, 1],\n",
    "                    labels=[\"%.2e\" % density[i], \"No ELMs\", \"%d pts. median\" % median_points] + [None]*3,\n",
    "                    linewidths=[0.5, 1, 1.5, 0.5, 1, 1.5],\n",
    "                    legend_kw={'loc':'center left', 'bbox_to_anchor':[1.02,-1,0.3,2]},\n",
    "                    sharex=True,\n",
    "                    y_labels=\"R (m)\",\n",
    "                    title=str(shot))\n",
    "fig0.set_size_inches(10, 5)\n",
    "# axes[0].text(x=2.6, y=2, s=\"LFS\", fontsize='x-large')\n",
    "# axes[1].text(x=2.6, y=1.3, s=\"HFS\", fontsize='x-large')\n",
    "# plt.show()"
   ]
  },
  {
   "cell_type": "code",
   "execution_count": null,
   "metadata": {},
   "outputs": [],
   "source": [
    "fig, axes = plots(x=time[mask], y=[lfs_area_median.T[i] for i in drawing_indexes] + [hfs_area_median.T[i] for i in drawing_indexes], \n",
    "                  boxes=[0]*n_iso + [1]*n_iso, \n",
    "                  labels=[\"%.2e\" % density[i] for i in drawing_indexes] + [None]*len(drawing_indexes),\n",
    "                  legend_kw={'loc':'center left', 'bbox_to_anchor':[1.02,-1,0.3,2]},\n",
    "                  y_mins=[None]*n_iso + [None]*n_iso,\n",
    "                  y_maxs=[None]*n_iso + [None]*n_iso,\n",
    "                  sharex=True,\n",
    "                  y_labels=\"R (m)\",\n",
    "                  title=str(shot))\n",
    "fig.set_size_inches(10, 5)\n",
    "# axes[0].text(x=2.6, y=2, s=\"LFS\", fontsize='x-large')\n",
    "# axes[1].text(x=2.6, y=1.3, s=\"HFS\", fontsize='x-large')\n",
    "# plt.show()"
   ]
  },
  {
   "cell_type": "code",
   "execution_count": null,
   "metadata": {},
   "outputs": [],
   "source": [
    "save_figure(fig, \"%d_isodensity\" % (shot))"
   ]
  },
  {
   "cell_type": "markdown",
   "metadata": {},
   "source": [
    "## Adding separatrix information"
   ]
  },
  {
   "cell_type": "code",
   "execution_count": null,
   "metadata": {},
   "outputs": [],
   "source": [
    "import dd #To read \n",
    "import kk_abock\n",
    "import numpy as np\n",
    "from ipfnpytools.trz_to_rhop import trz_to_rhop\n",
    "from ipfnpytools.trhoptheta_to_rz import trhoptheta_to_rz\n",
    "from ipfnpytools.getsig import getsig\n",
    "import matplotlib.patheffects as pe"
   ]
  },
  {
   "cell_type": "code",
   "execution_count": null,
   "metadata": {},
   "outputs": [],
   "source": [
    "# Set the antenna Z\n",
    "zl = 0.14\n",
    "zh = 0.07\n",
    "\n",
    "# Get lower x point\n",
    "rxpu = getsig(shot, 'GQH', 'Rxpu')\n",
    "zxpu = getsig(shot, 'GQH', 'Zxpu')\n",
    "\n",
    "# Get upper x point\n",
    "rxpo = getsig(shot, 'GQH', 'Rxpo')\n",
    "zxpo = getsig(shot, 'GQH', 'Zxpo')\n",
    "\n",
    "rho_x_u = trz_to_rhop(rxpu.time, rxpu.data, zxpu.data, \n",
    "                      shot=shot, eq=equillibrium)\n",
    "rho_x_u = np.diag(rho_x_u)\n",
    "\n",
    "rho_x_o = trz_to_rhop(rxpo.time, rxpo.data, zxpo.data, \n",
    "                      shot=shot, eq=equillibrium)\n",
    "rho_x_o = np.diag(rho_x_o)\n",
    "\n",
    "print(rho_x_u)\n",
    "print(rho_x_o)\n",
    "\n",
    "\n",
    "# # Walls\n",
    "# inner_wall = 1.045\n",
    "# outer_wall = 2.22\n",
    "\n",
    "# inner_wall_rho = trz_to_rhop(3, inner_wall, zh, shot, eq=equillibrium)\n",
    "# outer_wall_rho = trz_to_rhop(3, outer_wall, zl, shot, eq=equillibrium)\n",
    "# rhol = trz_to_rhop(time, lfs_area, np.ones_like(lfs_area)*zl, shot, eq=equillibrium)\n",
    "# rhoh = trz_to_rhop(time, hfs_area, np.ones_like(hfs_area)*zh, shot, eq=equillibrium)"
   ]
  },
  {
   "cell_type": "code",
   "execution_count": null,
   "metadata": {},
   "outputs": [],
   "source": [
    "# Discover R of secondary separatrix\n",
    "\n",
    "r_second_hfs = []\n",
    "for t, rho in zip(rxpo.time, rho_x_o):\n",
    "    r_second_hfs.append(trhoptheta_to_rz(t, rho, np.pi, shot=shot, eq=equillibrium, verbose=False)[0])\n",
    "r_second_hfs = np.array(r_second_hfs)\n",
    "    \n",
    "r_second_lfs = []\n",
    "for t, rho in zip(rxpo.time, rho_x_o):\n",
    "    r_second_lfs.append(trhoptheta_to_rz(t, rho, 0, shot=shot, eq=equillibrium, verbose=False)[0])  \n",
    "r_second_lfs = np.array(r_second_lfs)\n",
    "\n",
    "# Separatrix positions\n",
    "rin = getsig(shot, 'GQH', 'Rin')\n",
    "raus = getsig(shot, 'GQH', 'Raus')"
   ]
  },
  {
   "cell_type": "markdown",
   "metadata": {},
   "source": [
    "**The next cell draws the separatrix and secondary separatrix on the previous plot**\n",
    "\n",
    "To refresh the plot and erase the separatrix information simply re-execute the plotting cell "
   ]
  },
  {
   "cell_type": "code",
   "execution_count": null,
   "metadata": {},
   "outputs": [],
   "source": [
    "axes[0].plot(raus.time, raus.data, color='black', linestyle='--', label='sep.', alpha=0.6, path_effects=[pe.Stroke(linewidth=5, alpha=0.6, foreground='w'), pe.Normal()])\n",
    "axes[1].plot(rin.time, rin.data, color='black', linestyle='--', label='sep.', alpha=0.6, path_effects=[pe.Stroke(linewidth=5, alpha=0.6, foreground='w'), pe.Normal()])\n",
    "\n",
    "axes[0].plot(rxpo.time, r_second_lfs, color='red', linestyle='--', label='2$^{nd}$ sep.', alpha=0.6, path_effects=[pe.Stroke(linewidth=5, alpha=0.6, foreground='w'), pe.Normal()])\n",
    "axes[1].plot(rxpo.time, r_second_hfs, color='red', linestyle='--', label='2$^{nd}$ sep.', alpha=0.6, path_effects=[pe.Stroke(linewidth=5, alpha=0.6, foreground='w'), pe.Normal()])\n",
    "\n",
    "axes[0].legend(loc='center left', bbox_to_anchor=[1.02,-1,0.3,2]);"
   ]
  }
 ],
 "metadata": {
  "kernelspec": {
   "display_name": "Python 2",
   "language": "python",
   "name": "python2"
  },
  "language_info": {
   "codemirror_mode": {
    "name": "ipython",
    "version": 2
   },
   "file_extension": ".py",
   "mimetype": "text/x-python",
   "name": "python",
   "nbconvert_exporter": "python",
   "pygments_lexer": "ipython2",
   "version": "2.7.16"
  }
 },
 "nbformat": 4,
 "nbformat_minor": 2
}
