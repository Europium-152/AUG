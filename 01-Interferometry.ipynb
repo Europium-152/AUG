{
 "cells": [
  {
   "cell_type": "markdown",
   "metadata": {},
   "source": [
    "# Interferometry\n",
    "\n",
    "The interferometers are one of the most basic diagnostics in fusion. In ASDEX Upgrade the most basic shotfile is the `DCN`. Sometimes the DCN suffers from fringe jumps and it needs to be corrected, which will show up in a similar shotfile called the `DCK`."
   ]
  },
  {
   "cell_type": "code",
   "execution_count": null,
   "metadata": {},
   "outputs": [],
   "source": []
  }
 ],
 "metadata": {
  "kernelspec": {
   "display_name": "Python 2",
   "language": "python",
   "name": "python2"
  },
  "language_info": {
   "codemirror_mode": {
    "name": "ipython",
    "version": 2
   },
   "file_extension": ".py",
   "mimetype": "text/x-python",
   "name": "python",
   "nbconvert_exporter": "python",
   "pygments_lexer": "ipython2",
   "version": "2.7.14"
  }
 },
 "nbformat": 4,
 "nbformat_minor": 2
}
